{
 "cells": [
  {
   "cell_type": "code",
   "execution_count": 1,
   "id": "2f9ad5a4-9db8-4642-b28e-cceaf5617668",
   "metadata": {
    "tags": []
   },
   "outputs": [
    {
     "name": "stdout",
     "output_type": "stream",
     "text": [
      "[PhysicalDevice(name='/physical_device:GPU:0', device_type='GPU')]\n"
     ]
    }
   ],
   "source": [
    "import tensorflow as tf\n",
    "gpus = tf.config.experimental.list_physical_devices('GPU')\n",
    "print(gpus)\n",
    "for gpu in gpus:\n",
    "    tf.config.experimental.set_memory_growth(gpu, True)"
   ]
  },
  {
   "cell_type": "code",
   "execution_count": null,
   "id": "49db5d26-1a35-4bb2-8cff-cec688d7579e",
   "metadata": {},
   "outputs": [],
   "source": []
  },
  {
   "cell_type": "code",
   "execution_count": 1,
   "id": "96f14831-445d-4930-a700-135d59fdfc9c",
   "metadata": {},
   "outputs": [],
   "source": [
    "import torch\n",
    "\n"
   ]
  },
  {
   "cell_type": "code",
   "execution_count": 5,
   "id": "f4ce5ce8-3cf5-4f9a-899c-ee440ef76157",
   "metadata": {},
   "outputs": [
    {
     "ename": "NameError",
     "evalue": "name 'torch' is not defined",
     "output_type": "error",
     "traceback": [
      "\u001b[1;31m---------------------------------------------------------------------------\u001b[0m",
      "\u001b[1;31mNameError\u001b[0m                                 Traceback (most recent call last)",
      "Cell \u001b[1;32mIn[5], line 1\u001b[0m\n\u001b[1;32m----> 1\u001b[0m \u001b[38;5;28mprint\u001b[39m(\u001b[43mtorch\u001b[49m\u001b[38;5;241m.\u001b[39m__version__)\n",
      "\u001b[1;31mNameError\u001b[0m: name 'torch' is not defined"
     ]
    }
   ],
   "source": [
    "print(torch.__version__)"
   ]
  },
  {
   "cell_type": "code",
   "execution_count": 2,
   "id": "ac753d3b-4e9b-4dcc-b444-82e678be110a",
   "metadata": {
    "tags": []
   },
   "outputs": [],
   "source": [
    "from ultralytics import YOLO\n",
    "from PIL import Image\n",
    "import cv2\n",
    "\n",
    "model = YOLO(\"yolov8m.pt\")"
   ]
  },
  {
   "cell_type": "code",
   "execution_count": 11,
   "id": "1b249850-3d45-4d81-9347-3fd6659c1841",
   "metadata": {
    "tags": []
   },
   "outputs": [
    {
     "name": "stdout",
     "output_type": "stream",
     "text": [
      "Ultralytics YOLOv8.2.32  Python-3.9.19 torch-2.3.1 CUDA:0 (NVIDIA GeForce RTX 3060 Ti, 8192MiB)\n",
      "\u001b[34m\u001b[1mengine\\trainer: \u001b[0mtask=detect, mode=train, model=yolov8m.pt, data=C:/Users/gleb2/Downloads/some data/some data/original size/original size/data1.yaml, epochs=60, time=None, patience=14, batch=16, imgsz=640, save=True, save_period=-1, cache=False, device=None, workers=8, project=None, name=default, exist_ok=False, pretrained=True, optimizer=auto, verbose=True, seed=52, deterministic=True, single_cls=False, rect=False, cos_lr=False, close_mosaic=10, resume=False, amp=True, fraction=1.0, profile=False, freeze=None, multi_scale=False, overlap_mask=True, mask_ratio=4, dropout=0.0, val=True, split=val, save_json=False, save_hybrid=False, conf=None, iou=0.7, max_det=300, half=False, dnn=False, plots=True, source=None, vid_stride=1, stream_buffer=False, visualize=False, augment=False, agnostic_nms=False, classes=None, retina_masks=False, embed=None, show=False, save_frames=False, save_txt=False, save_conf=False, save_crop=False, show_labels=True, show_conf=True, show_boxes=True, line_width=None, format=torchscript, keras=False, optimize=False, int8=False, dynamic=False, simplify=False, opset=None, workspace=4, nms=False, lr0=0.01, lrf=0.01, momentum=0.937, weight_decay=0.0005, warmup_epochs=3.0, warmup_momentum=0.8, warmup_bias_lr=0.0, box=8.5, cls=0.5, dfl=1.5, pose=12.0, kobj=1.0, label_smoothing=0.0, nbs=64, hsv_h=0.01, hsv_s=0.7, hsv_v=0.3, degrees=0.0, translate=0.1, scale=0.5, shear=0.0, perspective=0.0, flipud=0, fliplr=0, bgr=0.0, mosaic=0, mixup=0.0, copy_paste=0.0, auto_augment=randaugment, erasing=0.4, crop_fraction=1.0, cfg=None, tracker=botsort.yaml, save_dir=runs\\detect\\default\n",
      "\n",
      "                   from  n    params  module                                       arguments                     \n",
      "  0                  -1  1      1392  ultralytics.nn.modules.conv.Conv             [3, 48, 3, 2]                 \n",
      "  1                  -1  1     41664  ultralytics.nn.modules.conv.Conv             [48, 96, 3, 2]                \n",
      "  2                  -1  2    111360  ultralytics.nn.modules.block.C2f             [96, 96, 2, True]             \n",
      "  3                  -1  1    166272  ultralytics.nn.modules.conv.Conv             [96, 192, 3, 2]               \n",
      "  4                  -1  4    813312  ultralytics.nn.modules.block.C2f             [192, 192, 4, True]           \n",
      "  5                  -1  1    664320  ultralytics.nn.modules.conv.Conv             [192, 384, 3, 2]              \n",
      "  6                  -1  4   3248640  ultralytics.nn.modules.block.C2f             [384, 384, 4, True]           \n",
      "  7                  -1  1   1991808  ultralytics.nn.modules.conv.Conv             [384, 576, 3, 2]              \n",
      "  8                  -1  2   3985920  ultralytics.nn.modules.block.C2f             [576, 576, 2, True]           \n",
      "  9                  -1  1    831168  ultralytics.nn.modules.block.SPPF            [576, 576, 5]                 \n",
      " 10                  -1  1         0  torch.nn.modules.upsampling.Upsample         [None, 2, 'nearest']          \n",
      " 11             [-1, 6]  1         0  ultralytics.nn.modules.conv.Concat           [1]                           \n",
      " 12                  -1  2   1993728  ultralytics.nn.modules.block.C2f             [960, 384, 2]                 \n",
      " 13                  -1  1         0  torch.nn.modules.upsampling.Upsample         [None, 2, 'nearest']          \n",
      " 14             [-1, 4]  1         0  ultralytics.nn.modules.conv.Concat           [1]                           \n",
      " 15                  -1  2    517632  ultralytics.nn.modules.block.C2f             [576, 192, 2]                 \n",
      " 16                  -1  1    332160  ultralytics.nn.modules.conv.Conv             [192, 192, 3, 2]              \n",
      " 17            [-1, 12]  1         0  ultralytics.nn.modules.conv.Concat           [1]                           \n",
      " 18                  -1  2   1846272  ultralytics.nn.modules.block.C2f             [576, 384, 2]                 \n",
      " 19                  -1  1   1327872  ultralytics.nn.modules.conv.Conv             [384, 384, 3, 2]              \n",
      " 20             [-1, 9]  1         0  ultralytics.nn.modules.conv.Concat           [1]                           \n",
      " 21                  -1  2   4207104  ultralytics.nn.modules.block.C2f             [960, 576, 2]                 \n",
      " 22        [15, 18, 21]  1   3778591  ultralytics.nn.modules.head.Detect           [5, [192, 384, 576]]          \n",
      "Model summary: 295 layers, 25859215 parameters, 25859199 gradients, 79.1 GFLOPs\n",
      "\n",
      "Transferred 475/475 items from pretrained weights\n",
      "\u001b[34m\u001b[1mTensorBoard: \u001b[0mStart with 'tensorboard --logdir runs\\detect\\default', view at http://localhost:6006/\n",
      "Freezing layer 'model.22.dfl.conv.weight'\n",
      "\u001b[34m\u001b[1mAMP: \u001b[0mrunning Automatic Mixed Precision (AMP) checks with YOLOv8n...\n",
      "\u001b[34m\u001b[1mAMP: \u001b[0mchecks passed \n"
     ]
    },
    {
     "name": "stderr",
     "output_type": "stream",
     "text": [
      "\u001b[34m\u001b[1mtrain: \u001b[0mScanning C:\\Users\\gleb2\\Downloads\\some data\\some data\\original size\\original size\\train\\labels.cache... 746 imag\u001b[0m\n",
      "\u001b[34m\u001b[1mval: \u001b[0mScanning C:\\Users\\gleb2\\Downloads\\some data\\some data\\original size\\original size\\valid\\labels.cache... 204 images\u001b[0m\n"
     ]
    },
    {
     "name": "stdout",
     "output_type": "stream",
     "text": [
      "Plotting labels to runs\\detect\\default\\labels.jpg... \n",
      "\u001b[34m\u001b[1moptimizer:\u001b[0m 'optimizer=auto' found, ignoring 'lr0=0.01' and 'momentum=0.937' and determining best 'optimizer', 'lr0' and 'momentum' automatically... \n",
      "\u001b[34m\u001b[1moptimizer:\u001b[0m AdamW(lr=0.001111, momentum=0.9) with parameter groups 77 weight(decay=0.0), 84 weight(decay=0.0005), 83 bias(decay=0.0)\n",
      "\u001b[34m\u001b[1mTensorBoard: \u001b[0mmodel graph visualization added \n",
      "Image sizes 640 train, 640 val\n",
      "Using 8 dataloader workers\n",
      "Logging results to \u001b[1mruns\\detect\\default\u001b[0m\n",
      "Starting training for 60 epochs...\n",
      "\n",
      "      Epoch    GPU_mem   box_loss   cls_loss   dfl_loss  Instances       Size\n"
     ]
    },
    {
     "name": "stderr",
     "output_type": "stream",
     "text": [
      "       1/60      7.89G     0.6103     0.3005     0.8411         36        640: 100%|██████████| 47/47 [01:01<00:00,  1.\n",
      "                 Class     Images  Instances      Box(P          R      mAP50  mAP50-95): 100%|██████████| 7/7 [00:03<0"
     ]
    },
    {
     "name": "stdout",
     "output_type": "stream",
     "text": [
      "                   all        204        755      0.844      0.796      0.843      0.421\n"
     ]
    },
    {
     "name": "stderr",
     "output_type": "stream",
     "text": [
      "\n"
     ]
    },
    {
     "name": "stdout",
     "output_type": "stream",
     "text": [
      "\n",
      "      Epoch    GPU_mem   box_loss   cls_loss   dfl_loss  Instances       Size\n"
     ]
    },
    {
     "name": "stderr",
     "output_type": "stream",
     "text": [
      "       2/60      7.31G     0.7283      0.337     0.8603         44        640: 100%|██████████| 47/47 [00:17<00:00,  2.\n",
      "                 Class     Images  Instances      Box(P          R      mAP50  mAP50-95): 100%|██████████| 7/7 [00:01<0"
     ]
    },
    {
     "name": "stdout",
     "output_type": "stream",
     "text": [
      "                   all        204        755      0.876      0.739      0.815      0.402\n"
     ]
    },
    {
     "name": "stderr",
     "output_type": "stream",
     "text": [
      "\n"
     ]
    },
    {
     "name": "stdout",
     "output_type": "stream",
     "text": [
      "\n",
      "      Epoch    GPU_mem   box_loss   cls_loss   dfl_loss  Instances       Size\n"
     ]
    },
    {
     "name": "stderr",
     "output_type": "stream",
     "text": [
      "       3/60      7.26G     0.8351     0.3795     0.9041         24        640: 100%|██████████| 47/47 [00:15<00:00,  3.\n",
      "                 Class     Images  Instances      Box(P          R      mAP50  mAP50-95): 100%|██████████| 7/7 [00:02<0"
     ]
    },
    {
     "name": "stdout",
     "output_type": "stream",
     "text": [
      "                   all        204        755      0.838       0.79      0.822       0.39\n"
     ]
    },
    {
     "name": "stderr",
     "output_type": "stream",
     "text": [
      "\n"
     ]
    },
    {
     "name": "stdout",
     "output_type": "stream",
     "text": [
      "\n",
      "      Epoch    GPU_mem   box_loss   cls_loss   dfl_loss  Instances       Size\n"
     ]
    },
    {
     "name": "stderr",
     "output_type": "stream",
     "text": [
      "       4/60      7.34G     0.9536     0.4225     0.9301         41        640: 100%|██████████| 47/47 [00:15<00:00,  3.\n",
      "                 Class     Images  Instances      Box(P          R      mAP50  mAP50-95): 100%|██████████| 7/7 [00:02<0"
     ]
    },
    {
     "name": "stdout",
     "output_type": "stream",
     "text": [
      "                   all        204        755      0.801      0.798      0.818      0.377\n"
     ]
    },
    {
     "name": "stderr",
     "output_type": "stream",
     "text": [
      "\n"
     ]
    },
    {
     "name": "stdout",
     "output_type": "stream",
     "text": [
      "\n",
      "      Epoch    GPU_mem   box_loss   cls_loss   dfl_loss  Instances       Size\n"
     ]
    },
    {
     "name": "stderr",
     "output_type": "stream",
     "text": [
      "       5/60      7.31G     0.9755     0.4439     0.9404         38        640: 100%|██████████| 47/47 [00:15<00:00,  3.\n",
      "                 Class     Images  Instances      Box(P          R      mAP50  mAP50-95): 100%|██████████| 7/7 [00:02<0"
     ]
    },
    {
     "name": "stdout",
     "output_type": "stream",
     "text": [
      "                   all        204        755      0.845      0.732      0.808      0.382\n"
     ]
    },
    {
     "name": "stderr",
     "output_type": "stream",
     "text": [
      "\n"
     ]
    },
    {
     "name": "stdout",
     "output_type": "stream",
     "text": [
      "\n",
      "      Epoch    GPU_mem   box_loss   cls_loss   dfl_loss  Instances       Size\n"
     ]
    },
    {
     "name": "stderr",
     "output_type": "stream",
     "text": [
      "       6/60      7.33G     0.9697     0.4415     0.9396         30        640: 100%|██████████| 47/47 [00:15<00:00,  3.\n",
      "                 Class     Images  Instances      Box(P          R      mAP50  mAP50-95): 100%|██████████| 7/7 [00:02<0"
     ]
    },
    {
     "name": "stdout",
     "output_type": "stream",
     "text": [
      "                   all        204        755      0.843      0.723      0.801      0.373\n"
     ]
    },
    {
     "name": "stderr",
     "output_type": "stream",
     "text": [
      "\n"
     ]
    },
    {
     "name": "stdout",
     "output_type": "stream",
     "text": [
      "\n",
      "      Epoch    GPU_mem   box_loss   cls_loss   dfl_loss  Instances       Size\n"
     ]
    },
    {
     "name": "stderr",
     "output_type": "stream",
     "text": [
      "       7/60      7.24G     0.9717     0.4428     0.9402         29        640: 100%|██████████| 47/47 [00:15<00:00,  3.\n",
      "                 Class     Images  Instances      Box(P          R      mAP50  mAP50-95): 100%|██████████| 7/7 [00:02<0"
     ]
    },
    {
     "name": "stdout",
     "output_type": "stream",
     "text": [
      "                   all        204        755      0.821      0.682      0.751       0.34\n"
     ]
    },
    {
     "name": "stderr",
     "output_type": "stream",
     "text": [
      "\n"
     ]
    },
    {
     "name": "stdout",
     "output_type": "stream",
     "text": [
      "\n",
      "      Epoch    GPU_mem   box_loss   cls_loss   dfl_loss  Instances       Size\n"
     ]
    },
    {
     "name": "stderr",
     "output_type": "stream",
     "text": [
      "       8/60      7.31G      0.987     0.4513     0.9548         32        640: 100%|██████████| 47/47 [00:15<00:00,  3.\n",
      "                 Class     Images  Instances      Box(P          R      mAP50  mAP50-95): 100%|██████████| 7/7 [00:02<0"
     ]
    },
    {
     "name": "stdout",
     "output_type": "stream",
     "text": [
      "                   all        204        755      0.818      0.742      0.798      0.375\n"
     ]
    },
    {
     "name": "stderr",
     "output_type": "stream",
     "text": [
      "\n"
     ]
    },
    {
     "name": "stdout",
     "output_type": "stream",
     "text": [
      "\n",
      "      Epoch    GPU_mem   box_loss   cls_loss   dfl_loss  Instances       Size\n"
     ]
    },
    {
     "name": "stderr",
     "output_type": "stream",
     "text": [
      "       9/60      7.31G      0.988     0.4564     0.9466         49        640: 100%|██████████| 47/47 [00:18<00:00,  2.\n",
      "                 Class     Images  Instances      Box(P          R      mAP50  mAP50-95): 100%|██████████| 7/7 [00:03<0"
     ]
    },
    {
     "name": "stdout",
     "output_type": "stream",
     "text": [
      "                   all        204        755      0.848      0.781      0.821      0.399\n"
     ]
    },
    {
     "name": "stderr",
     "output_type": "stream",
     "text": [
      "\n"
     ]
    },
    {
     "name": "stdout",
     "output_type": "stream",
     "text": [
      "\n",
      "      Epoch    GPU_mem   box_loss   cls_loss   dfl_loss  Instances       Size\n"
     ]
    },
    {
     "name": "stderr",
     "output_type": "stream",
     "text": [
      "      10/60      7.36G     0.9672     0.4421     0.9489         42        640: 100%|██████████| 47/47 [00:18<00:00,  2.\n",
      "                 Class     Images  Instances      Box(P          R      mAP50  mAP50-95): 100%|██████████| 7/7 [00:02<0"
     ]
    },
    {
     "name": "stdout",
     "output_type": "stream",
     "text": [
      "                   all        204        755      0.831      0.741        0.8      0.393\n"
     ]
    },
    {
     "name": "stderr",
     "output_type": "stream",
     "text": [
      "\n"
     ]
    },
    {
     "name": "stdout",
     "output_type": "stream",
     "text": [
      "\n",
      "      Epoch    GPU_mem   box_loss   cls_loss   dfl_loss  Instances       Size\n"
     ]
    },
    {
     "name": "stderr",
     "output_type": "stream",
     "text": [
      "      11/60      7.25G     0.9667     0.4284     0.9392         24        640: 100%|██████████| 47/47 [00:15<00:00,  2.\n",
      "                 Class     Images  Instances      Box(P          R      mAP50  mAP50-95): 100%|██████████| 7/7 [00:01<0"
     ]
    },
    {
     "name": "stdout",
     "output_type": "stream",
     "text": [
      "                   all        204        755      0.822      0.742      0.788      0.372\n"
     ]
    },
    {
     "name": "stderr",
     "output_type": "stream",
     "text": [
      "\n"
     ]
    },
    {
     "name": "stdout",
     "output_type": "stream",
     "text": [
      "\n",
      "      Epoch    GPU_mem   box_loss   cls_loss   dfl_loss  Instances       Size\n"
     ]
    },
    {
     "name": "stderr",
     "output_type": "stream",
     "text": [
      "      12/60      7.35G     0.9541     0.4309     0.9408         32        640: 100%|██████████| 47/47 [00:15<00:00,  2.\n",
      "                 Class     Images  Instances      Box(P          R      mAP50  mAP50-95): 100%|██████████| 7/7 [00:02<0"
     ]
    },
    {
     "name": "stdout",
     "output_type": "stream",
     "text": [
      "                   all        204        755      0.849      0.756      0.816      0.394\n"
     ]
    },
    {
     "name": "stderr",
     "output_type": "stream",
     "text": [
      "\n"
     ]
    },
    {
     "name": "stdout",
     "output_type": "stream",
     "text": [
      "\n",
      "      Epoch    GPU_mem   box_loss   cls_loss   dfl_loss  Instances       Size\n"
     ]
    },
    {
     "name": "stderr",
     "output_type": "stream",
     "text": [
      "      13/60      7.31G     0.9579     0.4327     0.9307         41        640: 100%|██████████| 47/47 [00:15<00:00,  3.\n",
      "                 Class     Images  Instances      Box(P          R      mAP50  mAP50-95): 100%|██████████| 7/7 [00:02<0"
     ]
    },
    {
     "name": "stdout",
     "output_type": "stream",
     "text": [
      "                   all        204        755      0.844      0.689      0.766       0.36\n"
     ]
    },
    {
     "name": "stderr",
     "output_type": "stream",
     "text": [
      "\n"
     ]
    },
    {
     "name": "stdout",
     "output_type": "stream",
     "text": [
      "\n",
      "      Epoch    GPU_mem   box_loss   cls_loss   dfl_loss  Instances       Size\n"
     ]
    },
    {
     "name": "stderr",
     "output_type": "stream",
     "text": [
      "      14/60      7.32G       0.97     0.4385     0.9466         36        640: 100%|██████████| 47/47 [00:14<00:00,  3.\n",
      "                 Class     Images  Instances      Box(P          R      mAP50  mAP50-95): 100%|██████████| 7/7 [00:02<0"
     ]
    },
    {
     "name": "stdout",
     "output_type": "stream",
     "text": [
      "                   all        204        755      0.853       0.75      0.813      0.381\n"
     ]
    },
    {
     "name": "stderr",
     "output_type": "stream",
     "text": [
      "\n"
     ]
    },
    {
     "name": "stdout",
     "output_type": "stream",
     "text": [
      "\n",
      "      Epoch    GPU_mem   box_loss   cls_loss   dfl_loss  Instances       Size\n"
     ]
    },
    {
     "name": "stderr",
     "output_type": "stream",
     "text": [
      "      15/60      7.24G      0.953     0.4334     0.9344         28        640: 100%|██████████| 47/47 [00:14<00:00,  3.\n",
      "                 Class     Images  Instances      Box(P          R      mAP50  mAP50-95): 100%|██████████| 7/7 [00:02<0"
     ]
    },
    {
     "name": "stdout",
     "output_type": "stream",
     "text": [
      "                   all        204        755      0.878      0.783      0.837      0.416\n",
      "\u001b[34m\u001b[1mEarlyStopping: \u001b[0mTraining stopped early as no improvement observed in last 14 epochs. Best results observed at epoch 1, best model saved as best.pt.\n",
      "To update EarlyStopping(patience=14) pass a new patience value, i.e. `patience=300` or use `patience=0` to disable EarlyStopping.\n"
     ]
    },
    {
     "name": "stderr",
     "output_type": "stream",
     "text": [
      "\n"
     ]
    },
    {
     "name": "stdout",
     "output_type": "stream",
     "text": [
      "\n",
      "15 epochs completed in 0.095 hours.\n",
      "Optimizer stripped from runs\\detect\\default\\weights\\last.pt, 52.0MB\n",
      "Optimizer stripped from runs\\detect\\default\\weights\\best.pt, 52.0MB\n",
      "\n",
      "Validating runs\\detect\\default\\weights\\best.pt...\n",
      "Ultralytics YOLOv8.2.32  Python-3.9.19 torch-2.3.1 CUDA:0 (NVIDIA GeForce RTX 3060 Ti, 8192MiB)\n",
      "Model summary (fused): 218 layers, 25842655 parameters, 0 gradients, 78.7 GFLOPs\n"
     ]
    },
    {
     "name": "stderr",
     "output_type": "stream",
     "text": [
      "                 Class     Images  Instances      Box(P          R      mAP50  mAP50-95): 100%|██████████| 7/7 [00:01<0\n"
     ]
    },
    {
     "name": "stdout",
     "output_type": "stream",
     "text": [
      "                   all        204        755      0.845      0.797      0.843      0.421\n",
      "                   adj         90        347      0.786      0.856      0.834      0.365\n",
      "                   geo        158        208       0.92      0.827      0.908      0.518\n",
      "                   int         69         91      0.797      0.689      0.726       0.33\n",
      "                   non         40         49      0.799      0.813      0.877      0.472\n",
      "                   pro         34         60      0.922        0.8      0.869      0.419\n",
      "Speed: 0.1ms preprocess, 4.1ms inference, 0.0ms loss, 1.0ms postprocess per image\n",
      "Results saved to \u001b[1mruns\\detect\\default\u001b[0m\n"
     ]
    },
    {
     "data": {
      "text/plain": [
       "ultralytics.utils.metrics.DetMetrics object with attributes:\n",
       "\n",
       "ap_class_index: array([0, 1, 2, 3, 4])\n",
       "box: ultralytics.utils.metrics.Metric object\n",
       "confusion_matrix: <ultralytics.utils.metrics.ConfusionMatrix object at 0x0000019395FAC880>\n",
       "curves: ['Precision-Recall(B)', 'F1-Confidence(B)', 'Precision-Confidence(B)', 'Recall-Confidence(B)']\n",
       "curves_results: [[array([          0,    0.001001,    0.002002,    0.003003,    0.004004,    0.005005,    0.006006,    0.007007,    0.008008,    0.009009,     0.01001,    0.011011,    0.012012,    0.013013,    0.014014,    0.015015,    0.016016,    0.017017,    0.018018,    0.019019,     0.02002,    0.021021,    0.022022,    0.023023,\n",
       "          0.024024,    0.025025,    0.026026,    0.027027,    0.028028,    0.029029,     0.03003,    0.031031,    0.032032,    0.033033,    0.034034,    0.035035,    0.036036,    0.037037,    0.038038,    0.039039,     0.04004,    0.041041,    0.042042,    0.043043,    0.044044,    0.045045,    0.046046,    0.047047,\n",
       "          0.048048,    0.049049,     0.05005,    0.051051,    0.052052,    0.053053,    0.054054,    0.055055,    0.056056,    0.057057,    0.058058,    0.059059,     0.06006,    0.061061,    0.062062,    0.063063,    0.064064,    0.065065,    0.066066,    0.067067,    0.068068,    0.069069,     0.07007,    0.071071,\n",
       "          0.072072,    0.073073,    0.074074,    0.075075,    0.076076,    0.077077,    0.078078,    0.079079,     0.08008,    0.081081,    0.082082,    0.083083,    0.084084,    0.085085,    0.086086,    0.087087,    0.088088,    0.089089,     0.09009,    0.091091,    0.092092,    0.093093,    0.094094,    0.095095,\n",
       "          0.096096,    0.097097,    0.098098,    0.099099,      0.1001,      0.1011,      0.1021,      0.1031,      0.1041,     0.10511,     0.10611,     0.10711,     0.10811,     0.10911,     0.11011,     0.11111,     0.11211,     0.11311,     0.11411,     0.11512,     0.11612,     0.11712,     0.11812,     0.11912,\n",
       "           0.12012,     0.12112,     0.12212,     0.12312,     0.12412,     0.12513,     0.12613,     0.12713,     0.12813,     0.12913,     0.13013,     0.13113,     0.13213,     0.13313,     0.13413,     0.13514,     0.13614,     0.13714,     0.13814,     0.13914,     0.14014,     0.14114,     0.14214,     0.14314,\n",
       "           0.14414,     0.14515,     0.14615,     0.14715,     0.14815,     0.14915,     0.15015,     0.15115,     0.15215,     0.15315,     0.15415,     0.15516,     0.15616,     0.15716,     0.15816,     0.15916,     0.16016,     0.16116,     0.16216,     0.16316,     0.16416,     0.16517,     0.16617,     0.16717,\n",
       "           0.16817,     0.16917,     0.17017,     0.17117,     0.17217,     0.17317,     0.17417,     0.17518,     0.17618,     0.17718,     0.17818,     0.17918,     0.18018,     0.18118,     0.18218,     0.18318,     0.18418,     0.18519,     0.18619,     0.18719,     0.18819,     0.18919,     0.19019,     0.19119,\n",
       "           0.19219,     0.19319,     0.19419,      0.1952,      0.1962,      0.1972,      0.1982,      0.1992,      0.2002,      0.2012,      0.2022,      0.2032,      0.2042,     0.20521,     0.20621,     0.20721,     0.20821,     0.20921,     0.21021,     0.21121,     0.21221,     0.21321,     0.21421,     0.21522,\n",
       "           0.21622,     0.21722,     0.21822,     0.21922,     0.22022,     0.22122,     0.22222,     0.22322,     0.22422,     0.22523,     0.22623,     0.22723,     0.22823,     0.22923,     0.23023,     0.23123,     0.23223,     0.23323,     0.23423,     0.23524,     0.23624,     0.23724,     0.23824,     0.23924,\n",
       "           0.24024,     0.24124,     0.24224,     0.24324,     0.24424,     0.24525,     0.24625,     0.24725,     0.24825,     0.24925,     0.25025,     0.25125,     0.25225,     0.25325,     0.25425,     0.25526,     0.25626,     0.25726,     0.25826,     0.25926,     0.26026,     0.26126,     0.26226,     0.26326,\n",
       "           0.26426,     0.26527,     0.26627,     0.26727,     0.26827,     0.26927,     0.27027,     0.27127,     0.27227,     0.27327,     0.27427,     0.27528,     0.27628,     0.27728,     0.27828,     0.27928,     0.28028,     0.28128,     0.28228,     0.28328,     0.28428,     0.28529,     0.28629,     0.28729,\n",
       "           0.28829,     0.28929,     0.29029,     0.29129,     0.29229,     0.29329,     0.29429,      0.2953,      0.2963,      0.2973,      0.2983,      0.2993,      0.3003,      0.3013,      0.3023,      0.3033,      0.3043,     0.30531,     0.30631,     0.30731,     0.30831,     0.30931,     0.31031,     0.31131,\n",
       "           0.31231,     0.31331,     0.31431,     0.31532,     0.31632,     0.31732,     0.31832,     0.31932,     0.32032,     0.32132,     0.32232,     0.32332,     0.32432,     0.32533,     0.32633,     0.32733,     0.32833,     0.32933,     0.33033,     0.33133,     0.33233,     0.33333,     0.33433,     0.33534,\n",
       "           0.33634,     0.33734,     0.33834,     0.33934,     0.34034,     0.34134,     0.34234,     0.34334,     0.34434,     0.34535,     0.34635,     0.34735,     0.34835,     0.34935,     0.35035,     0.35135,     0.35235,     0.35335,     0.35435,     0.35536,     0.35636,     0.35736,     0.35836,     0.35936,\n",
       "           0.36036,     0.36136,     0.36236,     0.36336,     0.36436,     0.36537,     0.36637,     0.36737,     0.36837,     0.36937,     0.37037,     0.37137,     0.37237,     0.37337,     0.37437,     0.37538,     0.37638,     0.37738,     0.37838,     0.37938,     0.38038,     0.38138,     0.38238,     0.38338,\n",
       "           0.38438,     0.38539,     0.38639,     0.38739,     0.38839,     0.38939,     0.39039,     0.39139,     0.39239,     0.39339,     0.39439,      0.3954,      0.3964,      0.3974,      0.3984,      0.3994,      0.4004,      0.4014,      0.4024,      0.4034,      0.4044,     0.40541,     0.40641,     0.40741,\n",
       "           0.40841,     0.40941,     0.41041,     0.41141,     0.41241,     0.41341,     0.41441,     0.41542,     0.41642,     0.41742,     0.41842,     0.41942,     0.42042,     0.42142,     0.42242,     0.42342,     0.42442,     0.42543,     0.42643,     0.42743,     0.42843,     0.42943,     0.43043,     0.43143,\n",
       "           0.43243,     0.43343,     0.43443,     0.43544,     0.43644,     0.43744,     0.43844,     0.43944,     0.44044,     0.44144,     0.44244,     0.44344,     0.44444,     0.44545,     0.44645,     0.44745,     0.44845,     0.44945,     0.45045,     0.45145,     0.45245,     0.45345,     0.45445,     0.45546,\n",
       "           0.45646,     0.45746,     0.45846,     0.45946,     0.46046,     0.46146,     0.46246,     0.46346,     0.46446,     0.46547,     0.46647,     0.46747,     0.46847,     0.46947,     0.47047,     0.47147,     0.47247,     0.47347,     0.47447,     0.47548,     0.47648,     0.47748,     0.47848,     0.47948,\n",
       "           0.48048,     0.48148,     0.48248,     0.48348,     0.48448,     0.48549,     0.48649,     0.48749,     0.48849,     0.48949,     0.49049,     0.49149,     0.49249,     0.49349,     0.49449,      0.4955,      0.4965,      0.4975,      0.4985,      0.4995,      0.5005,      0.5015,      0.5025,      0.5035,\n",
       "            0.5045,     0.50551,     0.50651,     0.50751,     0.50851,     0.50951,     0.51051,     0.51151,     0.51251,     0.51351,     0.51451,     0.51552,     0.51652,     0.51752,     0.51852,     0.51952,     0.52052,     0.52152,     0.52252,     0.52352,     0.52452,     0.52553,     0.52653,     0.52753,\n",
       "           0.52853,     0.52953,     0.53053,     0.53153,     0.53253,     0.53353,     0.53453,     0.53554,     0.53654,     0.53754,     0.53854,     0.53954,     0.54054,     0.54154,     0.54254,     0.54354,     0.54454,     0.54555,     0.54655,     0.54755,     0.54855,     0.54955,     0.55055,     0.55155,\n",
       "           0.55255,     0.55355,     0.55455,     0.55556,     0.55656,     0.55756,     0.55856,     0.55956,     0.56056,     0.56156,     0.56256,     0.56356,     0.56456,     0.56557,     0.56657,     0.56757,     0.56857,     0.56957,     0.57057,     0.57157,     0.57257,     0.57357,     0.57457,     0.57558,\n",
       "           0.57658,     0.57758,     0.57858,     0.57958,     0.58058,     0.58158,     0.58258,     0.58358,     0.58458,     0.58559,     0.58659,     0.58759,     0.58859,     0.58959,     0.59059,     0.59159,     0.59259,     0.59359,     0.59459,      0.5956,      0.5966,      0.5976,      0.5986,      0.5996,\n",
       "            0.6006,      0.6016,      0.6026,      0.6036,      0.6046,     0.60561,     0.60661,     0.60761,     0.60861,     0.60961,     0.61061,     0.61161,     0.61261,     0.61361,     0.61461,     0.61562,     0.61662,     0.61762,     0.61862,     0.61962,     0.62062,     0.62162,     0.62262,     0.62362,\n",
       "           0.62462,     0.62563,     0.62663,     0.62763,     0.62863,     0.62963,     0.63063,     0.63163,     0.63263,     0.63363,     0.63463,     0.63564,     0.63664,     0.63764,     0.63864,     0.63964,     0.64064,     0.64164,     0.64264,     0.64364,     0.64464,     0.64565,     0.64665,     0.64765,\n",
       "           0.64865,     0.64965,     0.65065,     0.65165,     0.65265,     0.65365,     0.65465,     0.65566,     0.65666,     0.65766,     0.65866,     0.65966,     0.66066,     0.66166,     0.66266,     0.66366,     0.66466,     0.66567,     0.66667,     0.66767,     0.66867,     0.66967,     0.67067,     0.67167,\n",
       "           0.67267,     0.67367,     0.67467,     0.67568,     0.67668,     0.67768,     0.67868,     0.67968,     0.68068,     0.68168,     0.68268,     0.68368,     0.68468,     0.68569,     0.68669,     0.68769,     0.68869,     0.68969,     0.69069,     0.69169,     0.69269,     0.69369,     0.69469,      0.6957,\n",
       "            0.6967,      0.6977,      0.6987,      0.6997,      0.7007,      0.7017,      0.7027,      0.7037,      0.7047,     0.70571,     0.70671,     0.70771,     0.70871,     0.70971,     0.71071,     0.71171,     0.71271,     0.71371,     0.71471,     0.71572,     0.71672,     0.71772,     0.71872,     0.71972,\n",
       "           0.72072,     0.72172,     0.72272,     0.72372,     0.72472,     0.72573,     0.72673,     0.72773,     0.72873,     0.72973,     0.73073,     0.73173,     0.73273,     0.73373,     0.73473,     0.73574,     0.73674,     0.73774,     0.73874,     0.73974,     0.74074,     0.74174,     0.74274,     0.74374,\n",
       "           0.74474,     0.74575,     0.74675,     0.74775,     0.74875,     0.74975,     0.75075,     0.75175,     0.75275,     0.75375,     0.75475,     0.75576,     0.75676,     0.75776,     0.75876,     0.75976,     0.76076,     0.76176,     0.76276,     0.76376,     0.76476,     0.76577,     0.76677,     0.76777,\n",
       "           0.76877,     0.76977,     0.77077,     0.77177,     0.77277,     0.77377,     0.77477,     0.77578,     0.77678,     0.77778,     0.77878,     0.77978,     0.78078,     0.78178,     0.78278,     0.78378,     0.78478,     0.78579,     0.78679,     0.78779,     0.78879,     0.78979,     0.79079,     0.79179,\n",
       "           0.79279,     0.79379,     0.79479,      0.7958,      0.7968,      0.7978,      0.7988,      0.7998,      0.8008,      0.8018,      0.8028,      0.8038,      0.8048,     0.80581,     0.80681,     0.80781,     0.80881,     0.80981,     0.81081,     0.81181,     0.81281,     0.81381,     0.81481,     0.81582,\n",
       "           0.81682,     0.81782,     0.81882,     0.81982,     0.82082,     0.82182,     0.82282,     0.82382,     0.82482,     0.82583,     0.82683,     0.82783,     0.82883,     0.82983,     0.83083,     0.83183,     0.83283,     0.83383,     0.83483,     0.83584,     0.83684,     0.83784,     0.83884,     0.83984,\n",
       "           0.84084,     0.84184,     0.84284,     0.84384,     0.84484,     0.84585,     0.84685,     0.84785,     0.84885,     0.84985,     0.85085,     0.85185,     0.85285,     0.85385,     0.85485,     0.85586,     0.85686,     0.85786,     0.85886,     0.85986,     0.86086,     0.86186,     0.86286,     0.86386,\n",
       "           0.86486,     0.86587,     0.86687,     0.86787,     0.86887,     0.86987,     0.87087,     0.87187,     0.87287,     0.87387,     0.87487,     0.87588,     0.87688,     0.87788,     0.87888,     0.87988,     0.88088,     0.88188,     0.88288,     0.88388,     0.88488,     0.88589,     0.88689,     0.88789,\n",
       "           0.88889,     0.88989,     0.89089,     0.89189,     0.89289,     0.89389,     0.89489,      0.8959,      0.8969,      0.8979,      0.8989,      0.8999,      0.9009,      0.9019,      0.9029,      0.9039,      0.9049,     0.90591,     0.90691,     0.90791,     0.90891,     0.90991,     0.91091,     0.91191,\n",
       "           0.91291,     0.91391,     0.91491,     0.91592,     0.91692,     0.91792,     0.91892,     0.91992,     0.92092,     0.92192,     0.92292,     0.92392,     0.92492,     0.92593,     0.92693,     0.92793,     0.92893,     0.92993,     0.93093,     0.93193,     0.93293,     0.93393,     0.93493,     0.93594,\n",
       "           0.93694,     0.93794,     0.93894,     0.93994,     0.94094,     0.94194,     0.94294,     0.94394,     0.94494,     0.94595,     0.94695,     0.94795,     0.94895,     0.94995,     0.95095,     0.95195,     0.95295,     0.95395,     0.95495,     0.95596,     0.95696,     0.95796,     0.95896,     0.95996,\n",
       "           0.96096,     0.96196,     0.96296,     0.96396,     0.96496,     0.96597,     0.96697,     0.96797,     0.96897,     0.96997,     0.97097,     0.97197,     0.97297,     0.97397,     0.97497,     0.97598,     0.97698,     0.97798,     0.97898,     0.97998,     0.98098,     0.98198,     0.98298,     0.98398,\n",
       "           0.98498,     0.98599,     0.98699,     0.98799,     0.98899,     0.98999,     0.99099,     0.99199,     0.99299,     0.99399,     0.99499,       0.996,       0.997,       0.998,       0.999,           1]), array([[          1,           1,           1, ...,   0.0083272,   0.0041636,           0],\n",
       "       [          1,           1,           1, ...,    0.017789,   0.0088946,           0],\n",
       "       [          1,           1,           1, ...,   0.0035566,   0.0017783,           0],\n",
       "       [          1,           1,           1, ...,   0.0075066,   0.0037533,           0],\n",
       "       [          1,           1,           1, ...,    0.014809,   0.0074047,           0]]), 'Recall', 'Precision'], [array([          0,    0.001001,    0.002002,    0.003003,    0.004004,    0.005005,    0.006006,    0.007007,    0.008008,    0.009009,     0.01001,    0.011011,    0.012012,    0.013013,    0.014014,    0.015015,    0.016016,    0.017017,    0.018018,    0.019019,     0.02002,    0.021021,    0.022022,    0.023023,\n",
       "          0.024024,    0.025025,    0.026026,    0.027027,    0.028028,    0.029029,     0.03003,    0.031031,    0.032032,    0.033033,    0.034034,    0.035035,    0.036036,    0.037037,    0.038038,    0.039039,     0.04004,    0.041041,    0.042042,    0.043043,    0.044044,    0.045045,    0.046046,    0.047047,\n",
       "          0.048048,    0.049049,     0.05005,    0.051051,    0.052052,    0.053053,    0.054054,    0.055055,    0.056056,    0.057057,    0.058058,    0.059059,     0.06006,    0.061061,    0.062062,    0.063063,    0.064064,    0.065065,    0.066066,    0.067067,    0.068068,    0.069069,     0.07007,    0.071071,\n",
       "          0.072072,    0.073073,    0.074074,    0.075075,    0.076076,    0.077077,    0.078078,    0.079079,     0.08008,    0.081081,    0.082082,    0.083083,    0.084084,    0.085085,    0.086086,    0.087087,    0.088088,    0.089089,     0.09009,    0.091091,    0.092092,    0.093093,    0.094094,    0.095095,\n",
       "          0.096096,    0.097097,    0.098098,    0.099099,      0.1001,      0.1011,      0.1021,      0.1031,      0.1041,     0.10511,     0.10611,     0.10711,     0.10811,     0.10911,     0.11011,     0.11111,     0.11211,     0.11311,     0.11411,     0.11512,     0.11612,     0.11712,     0.11812,     0.11912,\n",
       "           0.12012,     0.12112,     0.12212,     0.12312,     0.12412,     0.12513,     0.12613,     0.12713,     0.12813,     0.12913,     0.13013,     0.13113,     0.13213,     0.13313,     0.13413,     0.13514,     0.13614,     0.13714,     0.13814,     0.13914,     0.14014,     0.14114,     0.14214,     0.14314,\n",
       "           0.14414,     0.14515,     0.14615,     0.14715,     0.14815,     0.14915,     0.15015,     0.15115,     0.15215,     0.15315,     0.15415,     0.15516,     0.15616,     0.15716,     0.15816,     0.15916,     0.16016,     0.16116,     0.16216,     0.16316,     0.16416,     0.16517,     0.16617,     0.16717,\n",
       "           0.16817,     0.16917,     0.17017,     0.17117,     0.17217,     0.17317,     0.17417,     0.17518,     0.17618,     0.17718,     0.17818,     0.17918,     0.18018,     0.18118,     0.18218,     0.18318,     0.18418,     0.18519,     0.18619,     0.18719,     0.18819,     0.18919,     0.19019,     0.19119,\n",
       "           0.19219,     0.19319,     0.19419,      0.1952,      0.1962,      0.1972,      0.1982,      0.1992,      0.2002,      0.2012,      0.2022,      0.2032,      0.2042,     0.20521,     0.20621,     0.20721,     0.20821,     0.20921,     0.21021,     0.21121,     0.21221,     0.21321,     0.21421,     0.21522,\n",
       "           0.21622,     0.21722,     0.21822,     0.21922,     0.22022,     0.22122,     0.22222,     0.22322,     0.22422,     0.22523,     0.22623,     0.22723,     0.22823,     0.22923,     0.23023,     0.23123,     0.23223,     0.23323,     0.23423,     0.23524,     0.23624,     0.23724,     0.23824,     0.23924,\n",
       "           0.24024,     0.24124,     0.24224,     0.24324,     0.24424,     0.24525,     0.24625,     0.24725,     0.24825,     0.24925,     0.25025,     0.25125,     0.25225,     0.25325,     0.25425,     0.25526,     0.25626,     0.25726,     0.25826,     0.25926,     0.26026,     0.26126,     0.26226,     0.26326,\n",
       "           0.26426,     0.26527,     0.26627,     0.26727,     0.26827,     0.26927,     0.27027,     0.27127,     0.27227,     0.27327,     0.27427,     0.27528,     0.27628,     0.27728,     0.27828,     0.27928,     0.28028,     0.28128,     0.28228,     0.28328,     0.28428,     0.28529,     0.28629,     0.28729,\n",
       "           0.28829,     0.28929,     0.29029,     0.29129,     0.29229,     0.29329,     0.29429,      0.2953,      0.2963,      0.2973,      0.2983,      0.2993,      0.3003,      0.3013,      0.3023,      0.3033,      0.3043,     0.30531,     0.30631,     0.30731,     0.30831,     0.30931,     0.31031,     0.31131,\n",
       "           0.31231,     0.31331,     0.31431,     0.31532,     0.31632,     0.31732,     0.31832,     0.31932,     0.32032,     0.32132,     0.32232,     0.32332,     0.32432,     0.32533,     0.32633,     0.32733,     0.32833,     0.32933,     0.33033,     0.33133,     0.33233,     0.33333,     0.33433,     0.33534,\n",
       "           0.33634,     0.33734,     0.33834,     0.33934,     0.34034,     0.34134,     0.34234,     0.34334,     0.34434,     0.34535,     0.34635,     0.34735,     0.34835,     0.34935,     0.35035,     0.35135,     0.35235,     0.35335,     0.35435,     0.35536,     0.35636,     0.35736,     0.35836,     0.35936,\n",
       "           0.36036,     0.36136,     0.36236,     0.36336,     0.36436,     0.36537,     0.36637,     0.36737,     0.36837,     0.36937,     0.37037,     0.37137,     0.37237,     0.37337,     0.37437,     0.37538,     0.37638,     0.37738,     0.37838,     0.37938,     0.38038,     0.38138,     0.38238,     0.38338,\n",
       "           0.38438,     0.38539,     0.38639,     0.38739,     0.38839,     0.38939,     0.39039,     0.39139,     0.39239,     0.39339,     0.39439,      0.3954,      0.3964,      0.3974,      0.3984,      0.3994,      0.4004,      0.4014,      0.4024,      0.4034,      0.4044,     0.40541,     0.40641,     0.40741,\n",
       "           0.40841,     0.40941,     0.41041,     0.41141,     0.41241,     0.41341,     0.41441,     0.41542,     0.41642,     0.41742,     0.41842,     0.41942,     0.42042,     0.42142,     0.42242,     0.42342,     0.42442,     0.42543,     0.42643,     0.42743,     0.42843,     0.42943,     0.43043,     0.43143,\n",
       "           0.43243,     0.43343,     0.43443,     0.43544,     0.43644,     0.43744,     0.43844,     0.43944,     0.44044,     0.44144,     0.44244,     0.44344,     0.44444,     0.44545,     0.44645,     0.44745,     0.44845,     0.44945,     0.45045,     0.45145,     0.45245,     0.45345,     0.45445,     0.45546,\n",
       "           0.45646,     0.45746,     0.45846,     0.45946,     0.46046,     0.46146,     0.46246,     0.46346,     0.46446,     0.46547,     0.46647,     0.46747,     0.46847,     0.46947,     0.47047,     0.47147,     0.47247,     0.47347,     0.47447,     0.47548,     0.47648,     0.47748,     0.47848,     0.47948,\n",
       "           0.48048,     0.48148,     0.48248,     0.48348,     0.48448,     0.48549,     0.48649,     0.48749,     0.48849,     0.48949,     0.49049,     0.49149,     0.49249,     0.49349,     0.49449,      0.4955,      0.4965,      0.4975,      0.4985,      0.4995,      0.5005,      0.5015,      0.5025,      0.5035,\n",
       "            0.5045,     0.50551,     0.50651,     0.50751,     0.50851,     0.50951,     0.51051,     0.51151,     0.51251,     0.51351,     0.51451,     0.51552,     0.51652,     0.51752,     0.51852,     0.51952,     0.52052,     0.52152,     0.52252,     0.52352,     0.52452,     0.52553,     0.52653,     0.52753,\n",
       "           0.52853,     0.52953,     0.53053,     0.53153,     0.53253,     0.53353,     0.53453,     0.53554,     0.53654,     0.53754,     0.53854,     0.53954,     0.54054,     0.54154,     0.54254,     0.54354,     0.54454,     0.54555,     0.54655,     0.54755,     0.54855,     0.54955,     0.55055,     0.55155,\n",
       "           0.55255,     0.55355,     0.55455,     0.55556,     0.55656,     0.55756,     0.55856,     0.55956,     0.56056,     0.56156,     0.56256,     0.56356,     0.56456,     0.56557,     0.56657,     0.56757,     0.56857,     0.56957,     0.57057,     0.57157,     0.57257,     0.57357,     0.57457,     0.57558,\n",
       "           0.57658,     0.57758,     0.57858,     0.57958,     0.58058,     0.58158,     0.58258,     0.58358,     0.58458,     0.58559,     0.58659,     0.58759,     0.58859,     0.58959,     0.59059,     0.59159,     0.59259,     0.59359,     0.59459,      0.5956,      0.5966,      0.5976,      0.5986,      0.5996,\n",
       "            0.6006,      0.6016,      0.6026,      0.6036,      0.6046,     0.60561,     0.60661,     0.60761,     0.60861,     0.60961,     0.61061,     0.61161,     0.61261,     0.61361,     0.61461,     0.61562,     0.61662,     0.61762,     0.61862,     0.61962,     0.62062,     0.62162,     0.62262,     0.62362,\n",
       "           0.62462,     0.62563,     0.62663,     0.62763,     0.62863,     0.62963,     0.63063,     0.63163,     0.63263,     0.63363,     0.63463,     0.63564,     0.63664,     0.63764,     0.63864,     0.63964,     0.64064,     0.64164,     0.64264,     0.64364,     0.64464,     0.64565,     0.64665,     0.64765,\n",
       "           0.64865,     0.64965,     0.65065,     0.65165,     0.65265,     0.65365,     0.65465,     0.65566,     0.65666,     0.65766,     0.65866,     0.65966,     0.66066,     0.66166,     0.66266,     0.66366,     0.66466,     0.66567,     0.66667,     0.66767,     0.66867,     0.66967,     0.67067,     0.67167,\n",
       "           0.67267,     0.67367,     0.67467,     0.67568,     0.67668,     0.67768,     0.67868,     0.67968,     0.68068,     0.68168,     0.68268,     0.68368,     0.68468,     0.68569,     0.68669,     0.68769,     0.68869,     0.68969,     0.69069,     0.69169,     0.69269,     0.69369,     0.69469,      0.6957,\n",
       "            0.6967,      0.6977,      0.6987,      0.6997,      0.7007,      0.7017,      0.7027,      0.7037,      0.7047,     0.70571,     0.70671,     0.70771,     0.70871,     0.70971,     0.71071,     0.71171,     0.71271,     0.71371,     0.71471,     0.71572,     0.71672,     0.71772,     0.71872,     0.71972,\n",
       "           0.72072,     0.72172,     0.72272,     0.72372,     0.72472,     0.72573,     0.72673,     0.72773,     0.72873,     0.72973,     0.73073,     0.73173,     0.73273,     0.73373,     0.73473,     0.73574,     0.73674,     0.73774,     0.73874,     0.73974,     0.74074,     0.74174,     0.74274,     0.74374,\n",
       "           0.74474,     0.74575,     0.74675,     0.74775,     0.74875,     0.74975,     0.75075,     0.75175,     0.75275,     0.75375,     0.75475,     0.75576,     0.75676,     0.75776,     0.75876,     0.75976,     0.76076,     0.76176,     0.76276,     0.76376,     0.76476,     0.76577,     0.76677,     0.76777,\n",
       "           0.76877,     0.76977,     0.77077,     0.77177,     0.77277,     0.77377,     0.77477,     0.77578,     0.77678,     0.77778,     0.77878,     0.77978,     0.78078,     0.78178,     0.78278,     0.78378,     0.78478,     0.78579,     0.78679,     0.78779,     0.78879,     0.78979,     0.79079,     0.79179,\n",
       "           0.79279,     0.79379,     0.79479,      0.7958,      0.7968,      0.7978,      0.7988,      0.7998,      0.8008,      0.8018,      0.8028,      0.8038,      0.8048,     0.80581,     0.80681,     0.80781,     0.80881,     0.80981,     0.81081,     0.81181,     0.81281,     0.81381,     0.81481,     0.81582,\n",
       "           0.81682,     0.81782,     0.81882,     0.81982,     0.82082,     0.82182,     0.82282,     0.82382,     0.82482,     0.82583,     0.82683,     0.82783,     0.82883,     0.82983,     0.83083,     0.83183,     0.83283,     0.83383,     0.83483,     0.83584,     0.83684,     0.83784,     0.83884,     0.83984,\n",
       "           0.84084,     0.84184,     0.84284,     0.84384,     0.84484,     0.84585,     0.84685,     0.84785,     0.84885,     0.84985,     0.85085,     0.85185,     0.85285,     0.85385,     0.85485,     0.85586,     0.85686,     0.85786,     0.85886,     0.85986,     0.86086,     0.86186,     0.86286,     0.86386,\n",
       "           0.86486,     0.86587,     0.86687,     0.86787,     0.86887,     0.86987,     0.87087,     0.87187,     0.87287,     0.87387,     0.87487,     0.87588,     0.87688,     0.87788,     0.87888,     0.87988,     0.88088,     0.88188,     0.88288,     0.88388,     0.88488,     0.88589,     0.88689,     0.88789,\n",
       "           0.88889,     0.88989,     0.89089,     0.89189,     0.89289,     0.89389,     0.89489,      0.8959,      0.8969,      0.8979,      0.8989,      0.8999,      0.9009,      0.9019,      0.9029,      0.9039,      0.9049,     0.90591,     0.90691,     0.90791,     0.90891,     0.90991,     0.91091,     0.91191,\n",
       "           0.91291,     0.91391,     0.91491,     0.91592,     0.91692,     0.91792,     0.91892,     0.91992,     0.92092,     0.92192,     0.92292,     0.92392,     0.92492,     0.92593,     0.92693,     0.92793,     0.92893,     0.92993,     0.93093,     0.93193,     0.93293,     0.93393,     0.93493,     0.93594,\n",
       "           0.93694,     0.93794,     0.93894,     0.93994,     0.94094,     0.94194,     0.94294,     0.94394,     0.94494,     0.94595,     0.94695,     0.94795,     0.94895,     0.94995,     0.95095,     0.95195,     0.95295,     0.95395,     0.95495,     0.95596,     0.95696,     0.95796,     0.95896,     0.95996,\n",
       "           0.96096,     0.96196,     0.96296,     0.96396,     0.96496,     0.96597,     0.96697,     0.96797,     0.96897,     0.96997,     0.97097,     0.97197,     0.97297,     0.97397,     0.97497,     0.97598,     0.97698,     0.97798,     0.97898,     0.97998,     0.98098,     0.98198,     0.98298,     0.98398,\n",
       "           0.98498,     0.98599,     0.98699,     0.98799,     0.98899,     0.98999,     0.99099,     0.99199,     0.99299,     0.99399,     0.99499,       0.996,       0.997,       0.998,       0.999,           1]), array([[    0.56143,     0.56143,     0.61673, ...,           0,           0,           0],\n",
       "       [    0.81104,     0.81104,     0.82713, ...,           0,           0,           0],\n",
       "       [    0.57265,     0.57265,     0.62559, ...,           0,           0,           0],\n",
       "       [    0.53659,     0.53659,     0.56319, ...,           0,           0,           0],\n",
       "       [    0.81203,     0.81203,      0.8105, ...,           0,           0,           0]]), 'Confidence', 'F1'], [array([          0,    0.001001,    0.002002,    0.003003,    0.004004,    0.005005,    0.006006,    0.007007,    0.008008,    0.009009,     0.01001,    0.011011,    0.012012,    0.013013,    0.014014,    0.015015,    0.016016,    0.017017,    0.018018,    0.019019,     0.02002,    0.021021,    0.022022,    0.023023,\n",
       "          0.024024,    0.025025,    0.026026,    0.027027,    0.028028,    0.029029,     0.03003,    0.031031,    0.032032,    0.033033,    0.034034,    0.035035,    0.036036,    0.037037,    0.038038,    0.039039,     0.04004,    0.041041,    0.042042,    0.043043,    0.044044,    0.045045,    0.046046,    0.047047,\n",
       "          0.048048,    0.049049,     0.05005,    0.051051,    0.052052,    0.053053,    0.054054,    0.055055,    0.056056,    0.057057,    0.058058,    0.059059,     0.06006,    0.061061,    0.062062,    0.063063,    0.064064,    0.065065,    0.066066,    0.067067,    0.068068,    0.069069,     0.07007,    0.071071,\n",
       "          0.072072,    0.073073,    0.074074,    0.075075,    0.076076,    0.077077,    0.078078,    0.079079,     0.08008,    0.081081,    0.082082,    0.083083,    0.084084,    0.085085,    0.086086,    0.087087,    0.088088,    0.089089,     0.09009,    0.091091,    0.092092,    0.093093,    0.094094,    0.095095,\n",
       "          0.096096,    0.097097,    0.098098,    0.099099,      0.1001,      0.1011,      0.1021,      0.1031,      0.1041,     0.10511,     0.10611,     0.10711,     0.10811,     0.10911,     0.11011,     0.11111,     0.11211,     0.11311,     0.11411,     0.11512,     0.11612,     0.11712,     0.11812,     0.11912,\n",
       "           0.12012,     0.12112,     0.12212,     0.12312,     0.12412,     0.12513,     0.12613,     0.12713,     0.12813,     0.12913,     0.13013,     0.13113,     0.13213,     0.13313,     0.13413,     0.13514,     0.13614,     0.13714,     0.13814,     0.13914,     0.14014,     0.14114,     0.14214,     0.14314,\n",
       "           0.14414,     0.14515,     0.14615,     0.14715,     0.14815,     0.14915,     0.15015,     0.15115,     0.15215,     0.15315,     0.15415,     0.15516,     0.15616,     0.15716,     0.15816,     0.15916,     0.16016,     0.16116,     0.16216,     0.16316,     0.16416,     0.16517,     0.16617,     0.16717,\n",
       "           0.16817,     0.16917,     0.17017,     0.17117,     0.17217,     0.17317,     0.17417,     0.17518,     0.17618,     0.17718,     0.17818,     0.17918,     0.18018,     0.18118,     0.18218,     0.18318,     0.18418,     0.18519,     0.18619,     0.18719,     0.18819,     0.18919,     0.19019,     0.19119,\n",
       "           0.19219,     0.19319,     0.19419,      0.1952,      0.1962,      0.1972,      0.1982,      0.1992,      0.2002,      0.2012,      0.2022,      0.2032,      0.2042,     0.20521,     0.20621,     0.20721,     0.20821,     0.20921,     0.21021,     0.21121,     0.21221,     0.21321,     0.21421,     0.21522,\n",
       "           0.21622,     0.21722,     0.21822,     0.21922,     0.22022,     0.22122,     0.22222,     0.22322,     0.22422,     0.22523,     0.22623,     0.22723,     0.22823,     0.22923,     0.23023,     0.23123,     0.23223,     0.23323,     0.23423,     0.23524,     0.23624,     0.23724,     0.23824,     0.23924,\n",
       "           0.24024,     0.24124,     0.24224,     0.24324,     0.24424,     0.24525,     0.24625,     0.24725,     0.24825,     0.24925,     0.25025,     0.25125,     0.25225,     0.25325,     0.25425,     0.25526,     0.25626,     0.25726,     0.25826,     0.25926,     0.26026,     0.26126,     0.26226,     0.26326,\n",
       "           0.26426,     0.26527,     0.26627,     0.26727,     0.26827,     0.26927,     0.27027,     0.27127,     0.27227,     0.27327,     0.27427,     0.27528,     0.27628,     0.27728,     0.27828,     0.27928,     0.28028,     0.28128,     0.28228,     0.28328,     0.28428,     0.28529,     0.28629,     0.28729,\n",
       "           0.28829,     0.28929,     0.29029,     0.29129,     0.29229,     0.29329,     0.29429,      0.2953,      0.2963,      0.2973,      0.2983,      0.2993,      0.3003,      0.3013,      0.3023,      0.3033,      0.3043,     0.30531,     0.30631,     0.30731,     0.30831,     0.30931,     0.31031,     0.31131,\n",
       "           0.31231,     0.31331,     0.31431,     0.31532,     0.31632,     0.31732,     0.31832,     0.31932,     0.32032,     0.32132,     0.32232,     0.32332,     0.32432,     0.32533,     0.32633,     0.32733,     0.32833,     0.32933,     0.33033,     0.33133,     0.33233,     0.33333,     0.33433,     0.33534,\n",
       "           0.33634,     0.33734,     0.33834,     0.33934,     0.34034,     0.34134,     0.34234,     0.34334,     0.34434,     0.34535,     0.34635,     0.34735,     0.34835,     0.34935,     0.35035,     0.35135,     0.35235,     0.35335,     0.35435,     0.35536,     0.35636,     0.35736,     0.35836,     0.35936,\n",
       "           0.36036,     0.36136,     0.36236,     0.36336,     0.36436,     0.36537,     0.36637,     0.36737,     0.36837,     0.36937,     0.37037,     0.37137,     0.37237,     0.37337,     0.37437,     0.37538,     0.37638,     0.37738,     0.37838,     0.37938,     0.38038,     0.38138,     0.38238,     0.38338,\n",
       "           0.38438,     0.38539,     0.38639,     0.38739,     0.38839,     0.38939,     0.39039,     0.39139,     0.39239,     0.39339,     0.39439,      0.3954,      0.3964,      0.3974,      0.3984,      0.3994,      0.4004,      0.4014,      0.4024,      0.4034,      0.4044,     0.40541,     0.40641,     0.40741,\n",
       "           0.40841,     0.40941,     0.41041,     0.41141,     0.41241,     0.41341,     0.41441,     0.41542,     0.41642,     0.41742,     0.41842,     0.41942,     0.42042,     0.42142,     0.42242,     0.42342,     0.42442,     0.42543,     0.42643,     0.42743,     0.42843,     0.42943,     0.43043,     0.43143,\n",
       "           0.43243,     0.43343,     0.43443,     0.43544,     0.43644,     0.43744,     0.43844,     0.43944,     0.44044,     0.44144,     0.44244,     0.44344,     0.44444,     0.44545,     0.44645,     0.44745,     0.44845,     0.44945,     0.45045,     0.45145,     0.45245,     0.45345,     0.45445,     0.45546,\n",
       "           0.45646,     0.45746,     0.45846,     0.45946,     0.46046,     0.46146,     0.46246,     0.46346,     0.46446,     0.46547,     0.46647,     0.46747,     0.46847,     0.46947,     0.47047,     0.47147,     0.47247,     0.47347,     0.47447,     0.47548,     0.47648,     0.47748,     0.47848,     0.47948,\n",
       "           0.48048,     0.48148,     0.48248,     0.48348,     0.48448,     0.48549,     0.48649,     0.48749,     0.48849,     0.48949,     0.49049,     0.49149,     0.49249,     0.49349,     0.49449,      0.4955,      0.4965,      0.4975,      0.4985,      0.4995,      0.5005,      0.5015,      0.5025,      0.5035,\n",
       "            0.5045,     0.50551,     0.50651,     0.50751,     0.50851,     0.50951,     0.51051,     0.51151,     0.51251,     0.51351,     0.51451,     0.51552,     0.51652,     0.51752,     0.51852,     0.51952,     0.52052,     0.52152,     0.52252,     0.52352,     0.52452,     0.52553,     0.52653,     0.52753,\n",
       "           0.52853,     0.52953,     0.53053,     0.53153,     0.53253,     0.53353,     0.53453,     0.53554,     0.53654,     0.53754,     0.53854,     0.53954,     0.54054,     0.54154,     0.54254,     0.54354,     0.54454,     0.54555,     0.54655,     0.54755,     0.54855,     0.54955,     0.55055,     0.55155,\n",
       "           0.55255,     0.55355,     0.55455,     0.55556,     0.55656,     0.55756,     0.55856,     0.55956,     0.56056,     0.56156,     0.56256,     0.56356,     0.56456,     0.56557,     0.56657,     0.56757,     0.56857,     0.56957,     0.57057,     0.57157,     0.57257,     0.57357,     0.57457,     0.57558,\n",
       "           0.57658,     0.57758,     0.57858,     0.57958,     0.58058,     0.58158,     0.58258,     0.58358,     0.58458,     0.58559,     0.58659,     0.58759,     0.58859,     0.58959,     0.59059,     0.59159,     0.59259,     0.59359,     0.59459,      0.5956,      0.5966,      0.5976,      0.5986,      0.5996,\n",
       "            0.6006,      0.6016,      0.6026,      0.6036,      0.6046,     0.60561,     0.60661,     0.60761,     0.60861,     0.60961,     0.61061,     0.61161,     0.61261,     0.61361,     0.61461,     0.61562,     0.61662,     0.61762,     0.61862,     0.61962,     0.62062,     0.62162,     0.62262,     0.62362,\n",
       "           0.62462,     0.62563,     0.62663,     0.62763,     0.62863,     0.62963,     0.63063,     0.63163,     0.63263,     0.63363,     0.63463,     0.63564,     0.63664,     0.63764,     0.63864,     0.63964,     0.64064,     0.64164,     0.64264,     0.64364,     0.64464,     0.64565,     0.64665,     0.64765,\n",
       "           0.64865,     0.64965,     0.65065,     0.65165,     0.65265,     0.65365,     0.65465,     0.65566,     0.65666,     0.65766,     0.65866,     0.65966,     0.66066,     0.66166,     0.66266,     0.66366,     0.66466,     0.66567,     0.66667,     0.66767,     0.66867,     0.66967,     0.67067,     0.67167,\n",
       "           0.67267,     0.67367,     0.67467,     0.67568,     0.67668,     0.67768,     0.67868,     0.67968,     0.68068,     0.68168,     0.68268,     0.68368,     0.68468,     0.68569,     0.68669,     0.68769,     0.68869,     0.68969,     0.69069,     0.69169,     0.69269,     0.69369,     0.69469,      0.6957,\n",
       "            0.6967,      0.6977,      0.6987,      0.6997,      0.7007,      0.7017,      0.7027,      0.7037,      0.7047,     0.70571,     0.70671,     0.70771,     0.70871,     0.70971,     0.71071,     0.71171,     0.71271,     0.71371,     0.71471,     0.71572,     0.71672,     0.71772,     0.71872,     0.71972,\n",
       "           0.72072,     0.72172,     0.72272,     0.72372,     0.72472,     0.72573,     0.72673,     0.72773,     0.72873,     0.72973,     0.73073,     0.73173,     0.73273,     0.73373,     0.73473,     0.73574,     0.73674,     0.73774,     0.73874,     0.73974,     0.74074,     0.74174,     0.74274,     0.74374,\n",
       "           0.74474,     0.74575,     0.74675,     0.74775,     0.74875,     0.74975,     0.75075,     0.75175,     0.75275,     0.75375,     0.75475,     0.75576,     0.75676,     0.75776,     0.75876,     0.75976,     0.76076,     0.76176,     0.76276,     0.76376,     0.76476,     0.76577,     0.76677,     0.76777,\n",
       "           0.76877,     0.76977,     0.77077,     0.77177,     0.77277,     0.77377,     0.77477,     0.77578,     0.77678,     0.77778,     0.77878,     0.77978,     0.78078,     0.78178,     0.78278,     0.78378,     0.78478,     0.78579,     0.78679,     0.78779,     0.78879,     0.78979,     0.79079,     0.79179,\n",
       "           0.79279,     0.79379,     0.79479,      0.7958,      0.7968,      0.7978,      0.7988,      0.7998,      0.8008,      0.8018,      0.8028,      0.8038,      0.8048,     0.80581,     0.80681,     0.80781,     0.80881,     0.80981,     0.81081,     0.81181,     0.81281,     0.81381,     0.81481,     0.81582,\n",
       "           0.81682,     0.81782,     0.81882,     0.81982,     0.82082,     0.82182,     0.82282,     0.82382,     0.82482,     0.82583,     0.82683,     0.82783,     0.82883,     0.82983,     0.83083,     0.83183,     0.83283,     0.83383,     0.83483,     0.83584,     0.83684,     0.83784,     0.83884,     0.83984,\n",
       "           0.84084,     0.84184,     0.84284,     0.84384,     0.84484,     0.84585,     0.84685,     0.84785,     0.84885,     0.84985,     0.85085,     0.85185,     0.85285,     0.85385,     0.85485,     0.85586,     0.85686,     0.85786,     0.85886,     0.85986,     0.86086,     0.86186,     0.86286,     0.86386,\n",
       "           0.86486,     0.86587,     0.86687,     0.86787,     0.86887,     0.86987,     0.87087,     0.87187,     0.87287,     0.87387,     0.87487,     0.87588,     0.87688,     0.87788,     0.87888,     0.87988,     0.88088,     0.88188,     0.88288,     0.88388,     0.88488,     0.88589,     0.88689,     0.88789,\n",
       "           0.88889,     0.88989,     0.89089,     0.89189,     0.89289,     0.89389,     0.89489,      0.8959,      0.8969,      0.8979,      0.8989,      0.8999,      0.9009,      0.9019,      0.9029,      0.9039,      0.9049,     0.90591,     0.90691,     0.90791,     0.90891,     0.90991,     0.91091,     0.91191,\n",
       "           0.91291,     0.91391,     0.91491,     0.91592,     0.91692,     0.91792,     0.91892,     0.91992,     0.92092,     0.92192,     0.92292,     0.92392,     0.92492,     0.92593,     0.92693,     0.92793,     0.92893,     0.92993,     0.93093,     0.93193,     0.93293,     0.93393,     0.93493,     0.93594,\n",
       "           0.93694,     0.93794,     0.93894,     0.93994,     0.94094,     0.94194,     0.94294,     0.94394,     0.94494,     0.94595,     0.94695,     0.94795,     0.94895,     0.94995,     0.95095,     0.95195,     0.95295,     0.95395,     0.95495,     0.95596,     0.95696,     0.95796,     0.95896,     0.95996,\n",
       "           0.96096,     0.96196,     0.96296,     0.96396,     0.96496,     0.96597,     0.96697,     0.96797,     0.96897,     0.96997,     0.97097,     0.97197,     0.97297,     0.97397,     0.97497,     0.97598,     0.97698,     0.97798,     0.97898,     0.97998,     0.98098,     0.98198,     0.98298,     0.98398,\n",
       "           0.98498,     0.98599,     0.98699,     0.98799,     0.98899,     0.98999,     0.99099,     0.99199,     0.99299,     0.99399,     0.99499,       0.996,       0.997,       0.998,       0.999,           1]), array([[    0.40755,     0.40755,     0.46855, ...,           1,           1,           1],\n",
       "       [    0.72624,     0.72624,     0.75902, ...,           1,           1,           1],\n",
       "       [    0.46853,     0.46853,     0.54385, ...,           1,           1,           1],\n",
       "       [    0.38261,     0.38261,     0.41025, ...,           1,           1,           1],\n",
       "       [    0.73973,     0.73973,     0.76395, ...,           1,           1,           1]]), 'Confidence', 'Precision'], [array([          0,    0.001001,    0.002002,    0.003003,    0.004004,    0.005005,    0.006006,    0.007007,    0.008008,    0.009009,     0.01001,    0.011011,    0.012012,    0.013013,    0.014014,    0.015015,    0.016016,    0.017017,    0.018018,    0.019019,     0.02002,    0.021021,    0.022022,    0.023023,\n",
       "          0.024024,    0.025025,    0.026026,    0.027027,    0.028028,    0.029029,     0.03003,    0.031031,    0.032032,    0.033033,    0.034034,    0.035035,    0.036036,    0.037037,    0.038038,    0.039039,     0.04004,    0.041041,    0.042042,    0.043043,    0.044044,    0.045045,    0.046046,    0.047047,\n",
       "          0.048048,    0.049049,     0.05005,    0.051051,    0.052052,    0.053053,    0.054054,    0.055055,    0.056056,    0.057057,    0.058058,    0.059059,     0.06006,    0.061061,    0.062062,    0.063063,    0.064064,    0.065065,    0.066066,    0.067067,    0.068068,    0.069069,     0.07007,    0.071071,\n",
       "          0.072072,    0.073073,    0.074074,    0.075075,    0.076076,    0.077077,    0.078078,    0.079079,     0.08008,    0.081081,    0.082082,    0.083083,    0.084084,    0.085085,    0.086086,    0.087087,    0.088088,    0.089089,     0.09009,    0.091091,    0.092092,    0.093093,    0.094094,    0.095095,\n",
       "          0.096096,    0.097097,    0.098098,    0.099099,      0.1001,      0.1011,      0.1021,      0.1031,      0.1041,     0.10511,     0.10611,     0.10711,     0.10811,     0.10911,     0.11011,     0.11111,     0.11211,     0.11311,     0.11411,     0.11512,     0.11612,     0.11712,     0.11812,     0.11912,\n",
       "           0.12012,     0.12112,     0.12212,     0.12312,     0.12412,     0.12513,     0.12613,     0.12713,     0.12813,     0.12913,     0.13013,     0.13113,     0.13213,     0.13313,     0.13413,     0.13514,     0.13614,     0.13714,     0.13814,     0.13914,     0.14014,     0.14114,     0.14214,     0.14314,\n",
       "           0.14414,     0.14515,     0.14615,     0.14715,     0.14815,     0.14915,     0.15015,     0.15115,     0.15215,     0.15315,     0.15415,     0.15516,     0.15616,     0.15716,     0.15816,     0.15916,     0.16016,     0.16116,     0.16216,     0.16316,     0.16416,     0.16517,     0.16617,     0.16717,\n",
       "           0.16817,     0.16917,     0.17017,     0.17117,     0.17217,     0.17317,     0.17417,     0.17518,     0.17618,     0.17718,     0.17818,     0.17918,     0.18018,     0.18118,     0.18218,     0.18318,     0.18418,     0.18519,     0.18619,     0.18719,     0.18819,     0.18919,     0.19019,     0.19119,\n",
       "           0.19219,     0.19319,     0.19419,      0.1952,      0.1962,      0.1972,      0.1982,      0.1992,      0.2002,      0.2012,      0.2022,      0.2032,      0.2042,     0.20521,     0.20621,     0.20721,     0.20821,     0.20921,     0.21021,     0.21121,     0.21221,     0.21321,     0.21421,     0.21522,\n",
       "           0.21622,     0.21722,     0.21822,     0.21922,     0.22022,     0.22122,     0.22222,     0.22322,     0.22422,     0.22523,     0.22623,     0.22723,     0.22823,     0.22923,     0.23023,     0.23123,     0.23223,     0.23323,     0.23423,     0.23524,     0.23624,     0.23724,     0.23824,     0.23924,\n",
       "           0.24024,     0.24124,     0.24224,     0.24324,     0.24424,     0.24525,     0.24625,     0.24725,     0.24825,     0.24925,     0.25025,     0.25125,     0.25225,     0.25325,     0.25425,     0.25526,     0.25626,     0.25726,     0.25826,     0.25926,     0.26026,     0.26126,     0.26226,     0.26326,\n",
       "           0.26426,     0.26527,     0.26627,     0.26727,     0.26827,     0.26927,     0.27027,     0.27127,     0.27227,     0.27327,     0.27427,     0.27528,     0.27628,     0.27728,     0.27828,     0.27928,     0.28028,     0.28128,     0.28228,     0.28328,     0.28428,     0.28529,     0.28629,     0.28729,\n",
       "           0.28829,     0.28929,     0.29029,     0.29129,     0.29229,     0.29329,     0.29429,      0.2953,      0.2963,      0.2973,      0.2983,      0.2993,      0.3003,      0.3013,      0.3023,      0.3033,      0.3043,     0.30531,     0.30631,     0.30731,     0.30831,     0.30931,     0.31031,     0.31131,\n",
       "           0.31231,     0.31331,     0.31431,     0.31532,     0.31632,     0.31732,     0.31832,     0.31932,     0.32032,     0.32132,     0.32232,     0.32332,     0.32432,     0.32533,     0.32633,     0.32733,     0.32833,     0.32933,     0.33033,     0.33133,     0.33233,     0.33333,     0.33433,     0.33534,\n",
       "           0.33634,     0.33734,     0.33834,     0.33934,     0.34034,     0.34134,     0.34234,     0.34334,     0.34434,     0.34535,     0.34635,     0.34735,     0.34835,     0.34935,     0.35035,     0.35135,     0.35235,     0.35335,     0.35435,     0.35536,     0.35636,     0.35736,     0.35836,     0.35936,\n",
       "           0.36036,     0.36136,     0.36236,     0.36336,     0.36436,     0.36537,     0.36637,     0.36737,     0.36837,     0.36937,     0.37037,     0.37137,     0.37237,     0.37337,     0.37437,     0.37538,     0.37638,     0.37738,     0.37838,     0.37938,     0.38038,     0.38138,     0.38238,     0.38338,\n",
       "           0.38438,     0.38539,     0.38639,     0.38739,     0.38839,     0.38939,     0.39039,     0.39139,     0.39239,     0.39339,     0.39439,      0.3954,      0.3964,      0.3974,      0.3984,      0.3994,      0.4004,      0.4014,      0.4024,      0.4034,      0.4044,     0.40541,     0.40641,     0.40741,\n",
       "           0.40841,     0.40941,     0.41041,     0.41141,     0.41241,     0.41341,     0.41441,     0.41542,     0.41642,     0.41742,     0.41842,     0.41942,     0.42042,     0.42142,     0.42242,     0.42342,     0.42442,     0.42543,     0.42643,     0.42743,     0.42843,     0.42943,     0.43043,     0.43143,\n",
       "           0.43243,     0.43343,     0.43443,     0.43544,     0.43644,     0.43744,     0.43844,     0.43944,     0.44044,     0.44144,     0.44244,     0.44344,     0.44444,     0.44545,     0.44645,     0.44745,     0.44845,     0.44945,     0.45045,     0.45145,     0.45245,     0.45345,     0.45445,     0.45546,\n",
       "           0.45646,     0.45746,     0.45846,     0.45946,     0.46046,     0.46146,     0.46246,     0.46346,     0.46446,     0.46547,     0.46647,     0.46747,     0.46847,     0.46947,     0.47047,     0.47147,     0.47247,     0.47347,     0.47447,     0.47548,     0.47648,     0.47748,     0.47848,     0.47948,\n",
       "           0.48048,     0.48148,     0.48248,     0.48348,     0.48448,     0.48549,     0.48649,     0.48749,     0.48849,     0.48949,     0.49049,     0.49149,     0.49249,     0.49349,     0.49449,      0.4955,      0.4965,      0.4975,      0.4985,      0.4995,      0.5005,      0.5015,      0.5025,      0.5035,\n",
       "            0.5045,     0.50551,     0.50651,     0.50751,     0.50851,     0.50951,     0.51051,     0.51151,     0.51251,     0.51351,     0.51451,     0.51552,     0.51652,     0.51752,     0.51852,     0.51952,     0.52052,     0.52152,     0.52252,     0.52352,     0.52452,     0.52553,     0.52653,     0.52753,\n",
       "           0.52853,     0.52953,     0.53053,     0.53153,     0.53253,     0.53353,     0.53453,     0.53554,     0.53654,     0.53754,     0.53854,     0.53954,     0.54054,     0.54154,     0.54254,     0.54354,     0.54454,     0.54555,     0.54655,     0.54755,     0.54855,     0.54955,     0.55055,     0.55155,\n",
       "           0.55255,     0.55355,     0.55455,     0.55556,     0.55656,     0.55756,     0.55856,     0.55956,     0.56056,     0.56156,     0.56256,     0.56356,     0.56456,     0.56557,     0.56657,     0.56757,     0.56857,     0.56957,     0.57057,     0.57157,     0.57257,     0.57357,     0.57457,     0.57558,\n",
       "           0.57658,     0.57758,     0.57858,     0.57958,     0.58058,     0.58158,     0.58258,     0.58358,     0.58458,     0.58559,     0.58659,     0.58759,     0.58859,     0.58959,     0.59059,     0.59159,     0.59259,     0.59359,     0.59459,      0.5956,      0.5966,      0.5976,      0.5986,      0.5996,\n",
       "            0.6006,      0.6016,      0.6026,      0.6036,      0.6046,     0.60561,     0.60661,     0.60761,     0.60861,     0.60961,     0.61061,     0.61161,     0.61261,     0.61361,     0.61461,     0.61562,     0.61662,     0.61762,     0.61862,     0.61962,     0.62062,     0.62162,     0.62262,     0.62362,\n",
       "           0.62462,     0.62563,     0.62663,     0.62763,     0.62863,     0.62963,     0.63063,     0.63163,     0.63263,     0.63363,     0.63463,     0.63564,     0.63664,     0.63764,     0.63864,     0.63964,     0.64064,     0.64164,     0.64264,     0.64364,     0.64464,     0.64565,     0.64665,     0.64765,\n",
       "           0.64865,     0.64965,     0.65065,     0.65165,     0.65265,     0.65365,     0.65465,     0.65566,     0.65666,     0.65766,     0.65866,     0.65966,     0.66066,     0.66166,     0.66266,     0.66366,     0.66466,     0.66567,     0.66667,     0.66767,     0.66867,     0.66967,     0.67067,     0.67167,\n",
       "           0.67267,     0.67367,     0.67467,     0.67568,     0.67668,     0.67768,     0.67868,     0.67968,     0.68068,     0.68168,     0.68268,     0.68368,     0.68468,     0.68569,     0.68669,     0.68769,     0.68869,     0.68969,     0.69069,     0.69169,     0.69269,     0.69369,     0.69469,      0.6957,\n",
       "            0.6967,      0.6977,      0.6987,      0.6997,      0.7007,      0.7017,      0.7027,      0.7037,      0.7047,     0.70571,     0.70671,     0.70771,     0.70871,     0.70971,     0.71071,     0.71171,     0.71271,     0.71371,     0.71471,     0.71572,     0.71672,     0.71772,     0.71872,     0.71972,\n",
       "           0.72072,     0.72172,     0.72272,     0.72372,     0.72472,     0.72573,     0.72673,     0.72773,     0.72873,     0.72973,     0.73073,     0.73173,     0.73273,     0.73373,     0.73473,     0.73574,     0.73674,     0.73774,     0.73874,     0.73974,     0.74074,     0.74174,     0.74274,     0.74374,\n",
       "           0.74474,     0.74575,     0.74675,     0.74775,     0.74875,     0.74975,     0.75075,     0.75175,     0.75275,     0.75375,     0.75475,     0.75576,     0.75676,     0.75776,     0.75876,     0.75976,     0.76076,     0.76176,     0.76276,     0.76376,     0.76476,     0.76577,     0.76677,     0.76777,\n",
       "           0.76877,     0.76977,     0.77077,     0.77177,     0.77277,     0.77377,     0.77477,     0.77578,     0.77678,     0.77778,     0.77878,     0.77978,     0.78078,     0.78178,     0.78278,     0.78378,     0.78478,     0.78579,     0.78679,     0.78779,     0.78879,     0.78979,     0.79079,     0.79179,\n",
       "           0.79279,     0.79379,     0.79479,      0.7958,      0.7968,      0.7978,      0.7988,      0.7998,      0.8008,      0.8018,      0.8028,      0.8038,      0.8048,     0.80581,     0.80681,     0.80781,     0.80881,     0.80981,     0.81081,     0.81181,     0.81281,     0.81381,     0.81481,     0.81582,\n",
       "           0.81682,     0.81782,     0.81882,     0.81982,     0.82082,     0.82182,     0.82282,     0.82382,     0.82482,     0.82583,     0.82683,     0.82783,     0.82883,     0.82983,     0.83083,     0.83183,     0.83283,     0.83383,     0.83483,     0.83584,     0.83684,     0.83784,     0.83884,     0.83984,\n",
       "           0.84084,     0.84184,     0.84284,     0.84384,     0.84484,     0.84585,     0.84685,     0.84785,     0.84885,     0.84985,     0.85085,     0.85185,     0.85285,     0.85385,     0.85485,     0.85586,     0.85686,     0.85786,     0.85886,     0.85986,     0.86086,     0.86186,     0.86286,     0.86386,\n",
       "           0.86486,     0.86587,     0.86687,     0.86787,     0.86887,     0.86987,     0.87087,     0.87187,     0.87287,     0.87387,     0.87487,     0.87588,     0.87688,     0.87788,     0.87888,     0.87988,     0.88088,     0.88188,     0.88288,     0.88388,     0.88488,     0.88589,     0.88689,     0.88789,\n",
       "           0.88889,     0.88989,     0.89089,     0.89189,     0.89289,     0.89389,     0.89489,      0.8959,      0.8969,      0.8979,      0.8989,      0.8999,      0.9009,      0.9019,      0.9029,      0.9039,      0.9049,     0.90591,     0.90691,     0.90791,     0.90891,     0.90991,     0.91091,     0.91191,\n",
       "           0.91291,     0.91391,     0.91491,     0.91592,     0.91692,     0.91792,     0.91892,     0.91992,     0.92092,     0.92192,     0.92292,     0.92392,     0.92492,     0.92593,     0.92693,     0.92793,     0.92893,     0.92993,     0.93093,     0.93193,     0.93293,     0.93393,     0.93493,     0.93594,\n",
       "           0.93694,     0.93794,     0.93894,     0.93994,     0.94094,     0.94194,     0.94294,     0.94394,     0.94494,     0.94595,     0.94695,     0.94795,     0.94895,     0.94995,     0.95095,     0.95195,     0.95295,     0.95395,     0.95495,     0.95596,     0.95696,     0.95796,     0.95896,     0.95996,\n",
       "           0.96096,     0.96196,     0.96296,     0.96396,     0.96496,     0.96597,     0.96697,     0.96797,     0.96897,     0.96997,     0.97097,     0.97197,     0.97297,     0.97397,     0.97497,     0.97598,     0.97698,     0.97798,     0.97898,     0.97998,     0.98098,     0.98198,     0.98298,     0.98398,\n",
       "           0.98498,     0.98599,     0.98699,     0.98799,     0.98899,     0.98999,     0.99099,     0.99199,     0.99299,     0.99399,     0.99499,       0.996,       0.997,       0.998,       0.999,           1]), array([[    0.90202,     0.90202,     0.90202, ...,           0,           0,           0],\n",
       "       [    0.91827,     0.91827,     0.90865, ...,           0,           0,           0],\n",
       "       [    0.73626,     0.73626,     0.73626, ...,           0,           0,           0],\n",
       "       [    0.89796,     0.89796,     0.89796, ...,           0,           0,           0],\n",
       "       [        0.9,         0.9,      0.8631, ...,           0,           0,           0]]), 'Confidence', 'Recall']]\n",
       "fitness: 0.4631774943072701\n",
       "keys: ['metrics/precision(B)', 'metrics/recall(B)', 'metrics/mAP50(B)', 'metrics/mAP50-95(B)']\n",
       "maps: array([    0.36503,     0.51802,     0.33034,     0.47236,     0.41931])\n",
       "names: {0: 'adj', 1: 'geo', 2: 'int', 3: 'non', 4: 'pro'}\n",
       "plot: True\n",
       "results_dict: {'metrics/precision(B)': 0.8448059101484823, 'metrics/recall(B)': 0.7968404625546224, 'metrics/mAP50(B)': 0.8426797450638954, 'metrics/mAP50-95(B)': 0.4210105775565339, 'fitness': 0.4631774943072701}\n",
       "save_dir: WindowsPath('runs/detect/default')\n",
       "speed: {'preprocess': 0.09743255727431353, 'inference': 4.090769618165259, 'loss': 0.0, 'postprocess': 1.0001507459902297}\n",
       "task: 'detect'"
      ]
     },
     "execution_count": 11,
     "metadata": {},
     "output_type": "execute_result"
    }
   ],
   "source": [
    "model.train(data='C:/Users/gleb2/Downloads/some data/some data/original size/original size/data1.yaml', imgsz=640, epochs=60, patience=14, seed=52, batch=16, \n",
    "            \n",
    "            name=\"default\" #what is special about this model?\n",
    "           ) \n",
    "\n",
    "#next mosaic 1 and flips 0.7"
   ]
  },
  {
   "cell_type": "code",
   "execution_count": null,
   "id": "4c8355f0-1d0d-42af-9918-896e25bf75f1",
   "metadata": {
    "tags": []
   },
   "outputs": [],
   "source": [
    "results = model(\"/home/jupyter/datasphere/project/original size/test/images/7-15-_jpg.rf.baa203e53e4fa7569785207274e91d12.jpg\")\n",
    "for result in results:\n",
    "    result.save(\"/home/jupyter/datasphere/project/res1.jpg\")"
   ]
  },
  {
   "cell_type": "code",
   "execution_count": 24,
   "id": "cfe6de08-7fe9-475b-98e3-fdf6a47993d8",
   "metadata": {},
   "outputs": [],
   "source": [
    "model = YOLO(\"C:/Users/gleb2/Downloads/some data/some data/runs/detect/train32/weights/best.pt\")"
   ]
  },
  {
   "cell_type": "code",
   "execution_count": 25,
   "id": "4030d632-fac0-4012-88fc-3e7140393940",
   "metadata": {},
   "outputs": [
    {
     "name": "stdout",
     "output_type": "stream",
     "text": [
      "Ultralytics YOLOv8.2.32  Python-3.9.19 torch-2.3.1 CUDA:0 (NVIDIA GeForce RTX 3060 Ti, 8192MiB)\n",
      "Model summary (fused): 218 layers, 25840339 parameters, 0 gradients, 78.7 GFLOPs\n"
     ]
    },
    {
     "name": "stderr",
     "output_type": "stream",
     "text": [
      "\u001b[34m\u001b[1mval: \u001b[0mScanning C:\\Users\\gleb2\\Downloads\\some data\\some data\\original size\\original size\\valid\\labels.cache... 204 images\u001b[0m\n",
      "                 Class     Images  Instances      Box(P          R      mAP50  mAP50-95):   0%|          | 0/13 [00:01<\n"
     ]
    },
    {
     "ename": "IndexError",
     "evalue": "index 3 is out of bounds for axis 1 with size 2",
     "output_type": "error",
     "traceback": [
      "\u001b[1;31m---------------------------------------------------------------------------\u001b[0m",
      "\u001b[1;31mIndexError\u001b[0m                                Traceback (most recent call last)",
      "Cell \u001b[1;32mIn[25], line 1\u001b[0m\n\u001b[1;32m----> 1\u001b[0m metrics \u001b[38;5;241m=\u001b[39m \u001b[43mmodel\u001b[49m\u001b[38;5;241;43m.\u001b[39;49m\u001b[43mval\u001b[49m\u001b[43m(\u001b[49m\u001b[43mdata\u001b[49m\u001b[38;5;241;43m=\u001b[39;49m\u001b[38;5;124;43m\"\u001b[39;49m\u001b[38;5;124;43mC:/Users/gleb2/Downloads/some data/some data/original size/original size/data1.yaml\u001b[39;49m\u001b[38;5;124;43m\"\u001b[39;49m\u001b[43m)\u001b[49m  \u001b[38;5;66;03m# no arguments needed, dataset and settings remembered\u001b[39;00m\n\u001b[0;32m      2\u001b[0m \u001b[38;5;28mprint\u001b[39m(metrics\u001b[38;5;241m.\u001b[39mbox\u001b[38;5;241m.\u001b[39mmap)  \u001b[38;5;66;03m# map50-95\u001b[39;00m\n\u001b[0;32m      3\u001b[0m metrics\u001b[38;5;241m.\u001b[39mbox\u001b[38;5;241m.\u001b[39mmap50  \u001b[38;5;66;03m# map50\u001b[39;00m\n",
      "File \u001b[1;32m~\\anaconda3\\envs\\py310\\lib\\site-packages\\ultralytics\\engine\\model.py:528\u001b[0m, in \u001b[0;36mModel.val\u001b[1;34m(self, validator, **kwargs)\u001b[0m\n\u001b[0;32m    525\u001b[0m args \u001b[38;5;241m=\u001b[39m {\u001b[38;5;241m*\u001b[39m\u001b[38;5;241m*\u001b[39m\u001b[38;5;28mself\u001b[39m\u001b[38;5;241m.\u001b[39moverrides, \u001b[38;5;241m*\u001b[39m\u001b[38;5;241m*\u001b[39mcustom, \u001b[38;5;241m*\u001b[39m\u001b[38;5;241m*\u001b[39mkwargs, \u001b[38;5;124m\"\u001b[39m\u001b[38;5;124mmode\u001b[39m\u001b[38;5;124m\"\u001b[39m: \u001b[38;5;124m\"\u001b[39m\u001b[38;5;124mval\u001b[39m\u001b[38;5;124m\"\u001b[39m}  \u001b[38;5;66;03m# highest priority args on the right\u001b[39;00m\n\u001b[0;32m    527\u001b[0m validator \u001b[38;5;241m=\u001b[39m (validator \u001b[38;5;129;01mor\u001b[39;00m \u001b[38;5;28mself\u001b[39m\u001b[38;5;241m.\u001b[39m_smart_load(\u001b[38;5;124m\"\u001b[39m\u001b[38;5;124mvalidator\u001b[39m\u001b[38;5;124m\"\u001b[39m))(args\u001b[38;5;241m=\u001b[39margs, _callbacks\u001b[38;5;241m=\u001b[39m\u001b[38;5;28mself\u001b[39m\u001b[38;5;241m.\u001b[39mcallbacks)\n\u001b[1;32m--> 528\u001b[0m \u001b[43mvalidator\u001b[49m\u001b[43m(\u001b[49m\u001b[43mmodel\u001b[49m\u001b[38;5;241;43m=\u001b[39;49m\u001b[38;5;28;43mself\u001b[39;49m\u001b[38;5;241;43m.\u001b[39;49m\u001b[43mmodel\u001b[49m\u001b[43m)\u001b[49m\n\u001b[0;32m    529\u001b[0m \u001b[38;5;28mself\u001b[39m\u001b[38;5;241m.\u001b[39mmetrics \u001b[38;5;241m=\u001b[39m validator\u001b[38;5;241m.\u001b[39mmetrics\n\u001b[0;32m    530\u001b[0m \u001b[38;5;28;01mreturn\u001b[39;00m validator\u001b[38;5;241m.\u001b[39mmetrics\n",
      "File \u001b[1;32m~\\anaconda3\\envs\\py310\\lib\\site-packages\\torch\\utils\\_contextlib.py:115\u001b[0m, in \u001b[0;36mcontext_decorator.<locals>.decorate_context\u001b[1;34m(*args, **kwargs)\u001b[0m\n\u001b[0;32m    112\u001b[0m \u001b[38;5;129m@functools\u001b[39m\u001b[38;5;241m.\u001b[39mwraps(func)\n\u001b[0;32m    113\u001b[0m \u001b[38;5;28;01mdef\u001b[39;00m \u001b[38;5;21mdecorate_context\u001b[39m(\u001b[38;5;241m*\u001b[39margs, \u001b[38;5;241m*\u001b[39m\u001b[38;5;241m*\u001b[39mkwargs):\n\u001b[0;32m    114\u001b[0m     \u001b[38;5;28;01mwith\u001b[39;00m ctx_factory():\n\u001b[1;32m--> 115\u001b[0m         \u001b[38;5;28;01mreturn\u001b[39;00m func(\u001b[38;5;241m*\u001b[39margs, \u001b[38;5;241m*\u001b[39m\u001b[38;5;241m*\u001b[39mkwargs)\n",
      "File \u001b[1;32m~\\anaconda3\\envs\\py310\\lib\\site-packages\\ultralytics\\engine\\validator.py:189\u001b[0m, in \u001b[0;36mBaseValidator.__call__\u001b[1;34m(self, trainer, model)\u001b[0m\n\u001b[0;32m    186\u001b[0m \u001b[38;5;28;01mwith\u001b[39;00m dt[\u001b[38;5;241m3\u001b[39m]:\n\u001b[0;32m    187\u001b[0m     preds \u001b[38;5;241m=\u001b[39m \u001b[38;5;28mself\u001b[39m\u001b[38;5;241m.\u001b[39mpostprocess(preds)\n\u001b[1;32m--> 189\u001b[0m \u001b[38;5;28;43mself\u001b[39;49m\u001b[38;5;241;43m.\u001b[39;49m\u001b[43mupdate_metrics\u001b[49m\u001b[43m(\u001b[49m\u001b[43mpreds\u001b[49m\u001b[43m,\u001b[49m\u001b[43m \u001b[49m\u001b[43mbatch\u001b[49m\u001b[43m)\u001b[49m\n\u001b[0;32m    190\u001b[0m \u001b[38;5;28;01mif\u001b[39;00m \u001b[38;5;28mself\u001b[39m\u001b[38;5;241m.\u001b[39margs\u001b[38;5;241m.\u001b[39mplots \u001b[38;5;129;01mand\u001b[39;00m batch_i \u001b[38;5;241m<\u001b[39m \u001b[38;5;241m3\u001b[39m:\n\u001b[0;32m    191\u001b[0m     \u001b[38;5;28mself\u001b[39m\u001b[38;5;241m.\u001b[39mplot_val_samples(batch, batch_i)\n",
      "File \u001b[1;32m~\\anaconda3\\envs\\py310\\lib\\site-packages\\ultralytics\\models\\yolo\\detect\\val.py:154\u001b[0m, in \u001b[0;36mDetectionValidator.update_metrics\u001b[1;34m(self, preds, batch)\u001b[0m\n\u001b[0;32m    152\u001b[0m     stat[\u001b[38;5;124m\"\u001b[39m\u001b[38;5;124mtp\u001b[39m\u001b[38;5;124m\"\u001b[39m] \u001b[38;5;241m=\u001b[39m \u001b[38;5;28mself\u001b[39m\u001b[38;5;241m.\u001b[39m_process_batch(predn, bbox, \u001b[38;5;28mcls\u001b[39m)\n\u001b[0;32m    153\u001b[0m     \u001b[38;5;28;01mif\u001b[39;00m \u001b[38;5;28mself\u001b[39m\u001b[38;5;241m.\u001b[39margs\u001b[38;5;241m.\u001b[39mplots:\n\u001b[1;32m--> 154\u001b[0m         \u001b[38;5;28;43mself\u001b[39;49m\u001b[38;5;241;43m.\u001b[39;49m\u001b[43mconfusion_matrix\u001b[49m\u001b[38;5;241;43m.\u001b[39;49m\u001b[43mprocess_batch\u001b[49m\u001b[43m(\u001b[49m\u001b[43mpredn\u001b[49m\u001b[43m,\u001b[49m\u001b[43m \u001b[49m\u001b[43mbbox\u001b[49m\u001b[43m,\u001b[49m\u001b[43m \u001b[49m\u001b[38;5;28;43mcls\u001b[39;49m\u001b[43m)\u001b[49m\n\u001b[0;32m    155\u001b[0m \u001b[38;5;28;01mfor\u001b[39;00m k \u001b[38;5;129;01min\u001b[39;00m \u001b[38;5;28mself\u001b[39m\u001b[38;5;241m.\u001b[39mstats\u001b[38;5;241m.\u001b[39mkeys():\n\u001b[0;32m    156\u001b[0m     \u001b[38;5;28mself\u001b[39m\u001b[38;5;241m.\u001b[39mstats[k]\u001b[38;5;241m.\u001b[39mappend(stat[k])\n",
      "File \u001b[1;32m~\\anaconda3\\envs\\py310\\lib\\site-packages\\ultralytics\\utils\\metrics.py:368\u001b[0m, in \u001b[0;36mConfusionMatrix.process_batch\u001b[1;34m(self, detections, gt_bboxes, gt_cls)\u001b[0m\n\u001b[0;32m    366\u001b[0m         \u001b[38;5;28mself\u001b[39m\u001b[38;5;241m.\u001b[39mmatrix[detection_classes[m1[j]], gc] \u001b[38;5;241m+\u001b[39m\u001b[38;5;241m=\u001b[39m \u001b[38;5;241m1\u001b[39m  \u001b[38;5;66;03m# correct\u001b[39;00m\n\u001b[0;32m    367\u001b[0m     \u001b[38;5;28;01melse\u001b[39;00m:\n\u001b[1;32m--> 368\u001b[0m         \u001b[38;5;28mself\u001b[39m\u001b[38;5;241m.\u001b[39mmatrix[\u001b[38;5;28mself\u001b[39m\u001b[38;5;241m.\u001b[39mnc, gc] \u001b[38;5;241m+\u001b[39m\u001b[38;5;241m=\u001b[39m \u001b[38;5;241m1\u001b[39m  \u001b[38;5;66;03m# true background\u001b[39;00m\n\u001b[0;32m    370\u001b[0m \u001b[38;5;28;01mif\u001b[39;00m n:\n\u001b[0;32m    371\u001b[0m     \u001b[38;5;28;01mfor\u001b[39;00m i, dc \u001b[38;5;129;01min\u001b[39;00m \u001b[38;5;28menumerate\u001b[39m(detection_classes):\n",
      "\u001b[1;31mIndexError\u001b[0m: index 3 is out of bounds for axis 1 with size 2"
     ]
    }
   ],
   "source": [
    "metrics = model.val(data=\"C:/Users/gleb2/Downloads/some data/some data/original size/original size/data1.yaml\")  # no arguments needed, dataset and settings remembered\n",
    "print(metrics.box.map)  # map50-95\n",
    "metrics.box.map50  # map50\n",
    "metrics.box.map75  # map75\n",
    "metrics.box.maps  # a list contains map50-95 of each category"
   ]
  },
  {
   "cell_type": "code",
   "execution_count": null,
   "id": "0ad0065d-2e76-4208-8d3c-30ddf5528ebb",
   "metadata": {},
   "outputs": [],
   "source": []
  },
  {
   "cell_type": "markdown",
   "id": "a7d89e64-43bf-4e30-804f-ffde18618301",
   "metadata": {},
   "source": [
    "\n",
    "\n",
    "\n",
    "**WITH DELETED EXTRA ADJ AND GEO**"
   ]
  },
  {
   "cell_type": "code",
   "execution_count": null,
   "id": "77a65e97-2262-434e-bd0d-6a35588fc768",
   "metadata": {
    "tags": []
   },
   "outputs": [],
   "source": [
    "import os\n",
    "import glob\n",
    "\n",
    "def check_labels(file_content):\n",
    "    first_numbers = [int(row.split()[0]) for row in file_content if row.strip() != '']\n",
    "    print(first_numbers)\n",
    "    print(\"/n\")\n",
    "    valid_numbers = {0, 1}\n",
    "    \n",
    "    return set(first_numbers).issubset(valid_numbers)\n",
    "\n",
    "labels_dir = '/home/jupyter/datasphere/project/original size less adj geo/train/labels'\n",
    "images_dir = '/home/jupyter/datasphere/project/original size less adj geo/train/images'  \n",
    "\n",
    "for label_file in glob.glob(os.path.join(labels_dir, '*.txt')):\n",
    "    with open(label_file, 'r') as file:\n",
    "        labels_content = file.readlines()\n",
    "        \n",
    "    \n",
    "    if check_labels(labels_content):\n",
    "        os.remove(label_file)\n",
    "        \n",
    "        base_name = os.path.basename(label_file)\n",
    "        image_file_name = base_name.replace('.txt', '.jpg')\n",
    "        jpg_file_path = os.path.join(images_dir, image_file_name)\n",
    "        \n",
    "        if os.path.exists(jpg_file_path):\n",
    "            os.remove(jpg_file_path)\n",
    "\n",
    "# получились очень плохие результаты\n"
   ]
  },
  {
   "cell_type": "code",
   "execution_count": 7,
   "id": "e6e706de-aa9c-4dcd-b70e-d016400f6c9a",
   "metadata": {},
   "outputs": [
    {
     "name": "stdout",
     "output_type": "stream",
     "text": [
      "\n",
      "image 1/363 C:\\Users\\gleb2\\Downloads\\test_dataset\\0.jpg: 384x640 2 adjs, 10.1ms\n",
      "image 2/363 C:\\Users\\gleb2\\Downloads\\test_dataset\\1 (1).jpg: 384x640 (no detections), 9.4ms\n",
      "image 3/363 C:\\Users\\gleb2\\Downloads\\test_dataset\\1 (101).jpg: 384x640 1 pro, 10.0ms\n",
      "image 4/363 C:\\Users\\gleb2\\Downloads\\test_dataset\\1 (102).jpg: 384x640 (no detections), 9.9ms\n",
      "image 5/363 C:\\Users\\gleb2\\Downloads\\test_dataset\\1 (103).jpg: 384x640 (no detections), 9.5ms\n",
      "image 6/363 C:\\Users\\gleb2\\Downloads\\test_dataset\\1 (104).jpg: 384x640 (no detections), 10.0ms\n",
      "image 7/363 C:\\Users\\gleb2\\Downloads\\test_dataset\\1 (107).jpg: 384x640 1 pro, 9.6ms\n",
      "image 8/363 C:\\Users\\gleb2\\Downloads\\test_dataset\\1 (108).jpg: 384x640 1 pro, 8.9ms\n",
      "image 9/363 C:\\Users\\gleb2\\Downloads\\test_dataset\\1 (109).jpg: 384x640 (no detections), 9.5ms\n",
      "image 10/363 C:\\Users\\gleb2\\Downloads\\test_dataset\\1 (110).jpg: 384x640 (no detections), 8.9ms\n",
      "image 11/363 C:\\Users\\gleb2\\Downloads\\test_dataset\\1 (13).jpg: 384x640 (no detections), 9.0ms\n",
      "image 12/363 C:\\Users\\gleb2\\Downloads\\test_dataset\\1 (14).jpg: 384x640 (no detections), 9.0ms\n",
      "image 13/363 C:\\Users\\gleb2\\Downloads\\test_dataset\\1 (19).jpg: 384x640 (no detections), 9.5ms\n",
      "image 14/363 C:\\Users\\gleb2\\Downloads\\test_dataset\\1 (2).jpg: 384x640 (no detections), 8.4ms\n",
      "image 15/363 C:\\Users\\gleb2\\Downloads\\test_dataset\\1 (20).jpg: 384x640 (no detections), 8.9ms\n",
      "image 16/363 C:\\Users\\gleb2\\Downloads\\test_dataset\\1 (25).jpg: 384x640 1 pro, 10.0ms\n",
      "image 17/363 C:\\Users\\gleb2\\Downloads\\test_dataset\\1 (26).jpg: 384x640 1 pro, 8.9ms\n",
      "image 18/363 C:\\Users\\gleb2\\Downloads\\test_dataset\\1 (27).jpg: 384x640 1 pro, 9.5ms\n",
      "image 19/363 C:\\Users\\gleb2\\Downloads\\test_dataset\\1 (28).jpg: 384x640 1 pro, 8.8ms\n",
      "image 20/363 C:\\Users\\gleb2\\Downloads\\test_dataset\\1 (31).jpg: 384x640 1 pro, 9.4ms\n",
      "image 21/363 C:\\Users\\gleb2\\Downloads\\test_dataset\\1 (32).jpg: 384x640 (no detections), 9.4ms\n",
      "image 22/363 C:\\Users\\gleb2\\Downloads\\test_dataset\\1 (35).jpg: 384x640 (no detections), 8.4ms\n",
      "image 23/363 C:\\Users\\gleb2\\Downloads\\test_dataset\\1 (36).jpg: 384x640 (no detections), 9.5ms\n",
      "image 24/363 C:\\Users\\gleb2\\Downloads\\test_dataset\\1 (39).jpg: 384x640 1 pro, 9.4ms\n",
      "image 25/363 C:\\Users\\gleb2\\Downloads\\test_dataset\\1 (4).jpg: 384x640 (no detections), 10.0ms\n",
      "image 26/363 C:\\Users\\gleb2\\Downloads\\test_dataset\\1 (40).jpg: 384x640 1 pro, 9.4ms\n",
      "image 27/363 C:\\Users\\gleb2\\Downloads\\test_dataset\\1 (43).jpg: 384x640 (no detections), 9.5ms\n",
      "image 28/363 C:\\Users\\gleb2\\Downloads\\test_dataset\\1 (44).jpg: 384x640 (no detections), 8.5ms\n",
      "image 29/363 C:\\Users\\gleb2\\Downloads\\test_dataset\\1 (47).jpg: 384x640 (no detections), 9.5ms\n",
      "image 30/363 C:\\Users\\gleb2\\Downloads\\test_dataset\\1 (48).jpg: 384x640 (no detections), 9.5ms\n",
      "image 31/363 C:\\Users\\gleb2\\Downloads\\test_dataset\\1 (51).jpg: 384x640 (no detections), 8.9ms\n",
      "image 32/363 C:\\Users\\gleb2\\Downloads\\test_dataset\\1 (52).jpg: 384x640 (no detections), 8.9ms\n",
      "image 33/363 C:\\Users\\gleb2\\Downloads\\test_dataset\\1 (55).jpg: 384x640 (no detections), 9.0ms\n",
      "image 34/363 C:\\Users\\gleb2\\Downloads\\test_dataset\\1 (56).jpg: 384x640 (no detections), 9.4ms\n",
      "image 35/363 C:\\Users\\gleb2\\Downloads\\test_dataset\\1 (59).jpg: 384x640 (no detections), 8.8ms\n",
      "image 36/363 C:\\Users\\gleb2\\Downloads\\test_dataset\\1 (60).jpg: 384x640 (no detections), 9.5ms\n",
      "image 37/363 C:\\Users\\gleb2\\Downloads\\test_dataset\\1 (63).jpg: 384x640 (no detections), 9.9ms\n",
      "image 38/363 C:\\Users\\gleb2\\Downloads\\test_dataset\\1 (64).jpg: 384x640 (no detections), 9.4ms\n",
      "image 39/363 C:\\Users\\gleb2\\Downloads\\test_dataset\\1 (67).jpg: 384x640 (no detections), 10.3ms\n",
      "image 40/363 C:\\Users\\gleb2\\Downloads\\test_dataset\\1 (68).jpg: 384x640 1 pro, 10.5ms\n",
      "image 41/363 C:\\Users\\gleb2\\Downloads\\test_dataset\\1 (7).jpg: 384x640 (no detections), 9.4ms\n",
      "image 42/363 C:\\Users\\gleb2\\Downloads\\test_dataset\\1 (71).jpg: 384x640 1 pro, 10.0ms\n",
      "image 43/363 C:\\Users\\gleb2\\Downloads\\test_dataset\\1 (72).jpg: 384x640 (no detections), 9.4ms\n",
      "image 44/363 C:\\Users\\gleb2\\Downloads\\test_dataset\\1 (75).jpg: 384x640 (no detections), 9.0ms\n",
      "image 45/363 C:\\Users\\gleb2\\Downloads\\test_dataset\\1 (76).jpg: 384x640 1 pro, 9.5ms\n",
      "image 46/363 C:\\Users\\gleb2\\Downloads\\test_dataset\\1 (79).jpg: 384x640 (no detections), 10.1ms\n",
      "image 47/363 C:\\Users\\gleb2\\Downloads\\test_dataset\\1 (8).jpg: 384x640 (no detections), 8.5ms\n",
      "image 48/363 C:\\Users\\gleb2\\Downloads\\test_dataset\\1 (80).jpg: 384x640 1 pro, 9.5ms\n",
      "image 49/363 C:\\Users\\gleb2\\Downloads\\test_dataset\\1 (83).jpg: 384x640 2 pros, 9.4ms\n",
      "image 50/363 C:\\Users\\gleb2\\Downloads\\test_dataset\\1 (84).jpg: 384x640 (no detections), 8.9ms\n",
      "image 51/363 C:\\Users\\gleb2\\Downloads\\test_dataset\\1 (87).jpg: 384x640 (no detections), 8.9ms\n",
      "image 52/363 C:\\Users\\gleb2\\Downloads\\test_dataset\\1 (88).jpg: 384x640 (no detections), 9.5ms\n",
      "image 53/363 C:\\Users\\gleb2\\Downloads\\test_dataset\\1 (89).jpg: 384x640 1 pro, 8.4ms\n",
      "image 54/363 C:\\Users\\gleb2\\Downloads\\test_dataset\\1 (90).jpg: 384x640 1 pro, 9.9ms\n",
      "image 55/363 C:\\Users\\gleb2\\Downloads\\test_dataset\\1 (91).jpg: 384x640 (no detections), 11.6ms\n",
      "image 56/363 C:\\Users\\gleb2\\Downloads\\test_dataset\\1 (92).jpg: 384x640 1 pro, 13.8ms\n",
      "image 57/363 C:\\Users\\gleb2\\Downloads\\test_dataset\\1 (93).jpg: 384x640 (no detections), 9.4ms\n",
      "image 58/363 C:\\Users\\gleb2\\Downloads\\test_dataset\\1 (94).jpg: 384x640 (no detections), 9.0ms\n",
      "image 59/363 C:\\Users\\gleb2\\Downloads\\test_dataset\\1 (95).jpg: 384x640 (no detections), 9.0ms\n",
      "image 60/363 C:\\Users\\gleb2\\Downloads\\test_dataset\\1 (96).jpg: 384x640 1 pro, 9.5ms\n",
      "image 61/363 C:\\Users\\gleb2\\Downloads\\test_dataset\\1 (97).jpg: 384x640 1 pro, 9.9ms\n",
      "image 62/363 C:\\Users\\gleb2\\Downloads\\test_dataset\\1 (98).jpg: 384x640 (no detections), 9.4ms\n",
      "image 63/363 C:\\Users\\gleb2\\Downloads\\test_dataset\\10.jpg: 384x640 6 adjs, 8.5ms\n",
      "image 64/363 C:\\Users\\gleb2\\Downloads\\test_dataset\\100.jpg: 384x640 2 adjs, 9.4ms\n",
      "image 65/363 C:\\Users\\gleb2\\Downloads\\test_dataset\\101.jpg: 384x640 4 adjs, 9.0ms\n",
      "image 66/363 C:\\Users\\gleb2\\Downloads\\test_dataset\\102.jpg: 384x640 3 adjs, 8.0ms\n",
      "image 67/363 C:\\Users\\gleb2\\Downloads\\test_dataset\\103.jpg: 384x640 3 adjs, 9.4ms\n",
      "image 68/363 C:\\Users\\gleb2\\Downloads\\test_dataset\\104.jpg: 384x640 4 adjs, 8.9ms\n",
      "image 69/363 C:\\Users\\gleb2\\Downloads\\test_dataset\\105.jpg: 384x640 4 adjs, 8.5ms\n",
      "image 70/363 C:\\Users\\gleb2\\Downloads\\test_dataset\\106.jpg: 384x640 5 adjs, 8.8ms\n",
      "image 71/363 C:\\Users\\gleb2\\Downloads\\test_dataset\\107.jpg: 384x640 4 adjs, 8.9ms\n",
      "image 72/363 C:\\Users\\gleb2\\Downloads\\test_dataset\\108.jpg: 384x640 4 adjs, 7.9ms\n",
      "image 73/363 C:\\Users\\gleb2\\Downloads\\test_dataset\\109.jpg: 384x640 5 adjs, 7.9ms\n",
      "image 74/363 C:\\Users\\gleb2\\Downloads\\test_dataset\\11.jpg: 384x640 4 adjs, 9.3ms\n",
      "image 75/363 C:\\Users\\gleb2\\Downloads\\test_dataset\\110.jpg: 384x640 5 adjs, 8.4ms\n",
      "image 76/363 C:\\Users\\gleb2\\Downloads\\test_dataset\\12.jpg: 384x640 5 adjs, 9.4ms\n",
      "image 77/363 C:\\Users\\gleb2\\Downloads\\test_dataset\\13.jpg: 384x640 4 adjs, 8.3ms\n",
      "image 78/363 C:\\Users\\gleb2\\Downloads\\test_dataset\\14.jpg: 384x640 5 adjs, 8.0ms\n",
      "image 79/363 C:\\Users\\gleb2\\Downloads\\test_dataset\\15.jpg: 384x640 3 adjs, 1 pro, 8.8ms\n",
      "image 80/363 C:\\Users\\gleb2\\Downloads\\test_dataset\\16.jpg: 384x640 4 adjs, 8.9ms\n",
      "image 81/363 C:\\Users\\gleb2\\Downloads\\test_dataset\\17.jpg: 384x640 3 adjs, 8.9ms\n",
      "image 82/363 C:\\Users\\gleb2\\Downloads\\test_dataset\\18.jpg: 384x640 3 adjs, 8.9ms\n",
      "image 83/363 C:\\Users\\gleb2\\Downloads\\test_dataset\\19.jpg: 384x640 2 adjs, 9.1ms\n",
      "image 84/363 C:\\Users\\gleb2\\Downloads\\test_dataset\\2 (1).jpg: 384x640 (no detections), 9.5ms\n",
      "image 85/363 C:\\Users\\gleb2\\Downloads\\test_dataset\\2 (10).jpg: 384x640 (no detections), 9.4ms\n",
      "image 86/363 C:\\Users\\gleb2\\Downloads\\test_dataset\\2 (11).jpg: 384x640 (no detections), 8.5ms\n",
      "image 87/363 C:\\Users\\gleb2\\Downloads\\test_dataset\\2 (12).jpg: 384x640 (no detections), 9.4ms\n",
      "image 88/363 C:\\Users\\gleb2\\Downloads\\test_dataset\\2 (13).jpg: 384x640 (no detections), 8.8ms\n",
      "image 89/363 C:\\Users\\gleb2\\Downloads\\test_dataset\\2 (14).jpg: 384x640 (no detections), 9.9ms\n",
      "image 90/363 C:\\Users\\gleb2\\Downloads\\test_dataset\\2 (15).jpg: 384x640 (no detections), 9.4ms\n",
      "image 91/363 C:\\Users\\gleb2\\Downloads\\test_dataset\\2 (16).jpg: 384x640 (no detections), 9.4ms\n",
      "image 92/363 C:\\Users\\gleb2\\Downloads\\test_dataset\\2 (17).jpg: 384x640 (no detections), 9.5ms\n",
      "image 93/363 C:\\Users\\gleb2\\Downloads\\test_dataset\\2 (18).jpg: 384x640 (no detections), 9.0ms\n",
      "image 94/363 C:\\Users\\gleb2\\Downloads\\test_dataset\\2 (19).jpg: 384x640 (no detections), 9.8ms\n",
      "image 95/363 C:\\Users\\gleb2\\Downloads\\test_dataset\\2 (2).jpg: 384x640 (no detections), 9.6ms\n",
      "image 96/363 C:\\Users\\gleb2\\Downloads\\test_dataset\\2 (20).jpg: 384x640 (no detections), 8.9ms\n",
      "image 97/363 C:\\Users\\gleb2\\Downloads\\test_dataset\\2 (21).jpg: 384x640 (no detections), 9.0ms\n",
      "image 98/363 C:\\Users\\gleb2\\Downloads\\test_dataset\\2 (22).jpg: 384x640 (no detections), 9.0ms\n",
      "image 99/363 C:\\Users\\gleb2\\Downloads\\test_dataset\\2 (23).jpg: 384x640 (no detections), 9.0ms\n",
      "image 100/363 C:\\Users\\gleb2\\Downloads\\test_dataset\\2 (24).jpg: 384x640 (no detections), 9.4ms\n",
      "image 101/363 C:\\Users\\gleb2\\Downloads\\test_dataset\\2 (25).jpg: 384x640 (no detections), 8.9ms\n",
      "image 102/363 C:\\Users\\gleb2\\Downloads\\test_dataset\\2 (26).jpg: 384x640 (no detections), 9.9ms\n",
      "image 103/363 C:\\Users\\gleb2\\Downloads\\test_dataset\\2 (27).jpg: 384x640 (no detections), 10.5ms\n",
      "image 104/363 C:\\Users\\gleb2\\Downloads\\test_dataset\\2 (28).jpg: 384x640 (no detections), 8.9ms\n",
      "image 105/363 C:\\Users\\gleb2\\Downloads\\test_dataset\\2 (29).jpg: 384x640 (no detections), 9.3ms\n",
      "image 106/363 C:\\Users\\gleb2\\Downloads\\test_dataset\\2 (3).jpg: 384x640 (no detections), 9.4ms\n",
      "image 107/363 C:\\Users\\gleb2\\Downloads\\test_dataset\\2 (30).jpg: 384x640 (no detections), 9.9ms\n",
      "image 108/363 C:\\Users\\gleb2\\Downloads\\test_dataset\\2 (31).jpg: 384x640 (no detections), 9.4ms\n",
      "image 109/363 C:\\Users\\gleb2\\Downloads\\test_dataset\\2 (32).jpg: 384x640 (no detections), 10.4ms\n",
      "image 110/363 C:\\Users\\gleb2\\Downloads\\test_dataset\\2 (33).jpg: 384x640 (no detections), 10.0ms\n",
      "image 111/363 C:\\Users\\gleb2\\Downloads\\test_dataset\\2 (34).jpg: 384x640 1 geo, 10.1ms\n",
      "image 112/363 C:\\Users\\gleb2\\Downloads\\test_dataset\\2 (35).jpg: 384x640 (no detections), 9.9ms\n",
      "image 113/363 C:\\Users\\gleb2\\Downloads\\test_dataset\\2 (36).jpg: 384x640 (no detections), 9.4ms\n",
      "image 114/363 C:\\Users\\gleb2\\Downloads\\test_dataset\\2 (37).jpg: 384x640 (no detections), 9.9ms\n",
      "image 115/363 C:\\Users\\gleb2\\Downloads\\test_dataset\\2 (38).jpg: 384x640 (no detections), 9.4ms\n",
      "image 116/363 C:\\Users\\gleb2\\Downloads\\test_dataset\\2 (39).jpg: 384x640 (no detections), 9.9ms\n",
      "image 117/363 C:\\Users\\gleb2\\Downloads\\test_dataset\\2 (4).jpg: 384x640 (no detections), 10.0ms\n",
      "image 118/363 C:\\Users\\gleb2\\Downloads\\test_dataset\\2 (40).jpg: 384x640 (no detections), 9.5ms\n",
      "image 119/363 C:\\Users\\gleb2\\Downloads\\test_dataset\\2 (41).jpg: 384x640 (no detections), 9.5ms\n",
      "image 120/363 C:\\Users\\gleb2\\Downloads\\test_dataset\\2 (42).jpg: 384x640 (no detections), 8.9ms\n",
      "image 121/363 C:\\Users\\gleb2\\Downloads\\test_dataset\\2 (43).jpg: 384x640 (no detections), 9.4ms\n",
      "image 122/363 C:\\Users\\gleb2\\Downloads\\test_dataset\\2 (44).jpg: 384x640 (no detections), 8.8ms\n",
      "image 123/363 C:\\Users\\gleb2\\Downloads\\test_dataset\\2 (45).jpg: 384x640 (no detections), 9.4ms\n",
      "image 124/363 C:\\Users\\gleb2\\Downloads\\test_dataset\\2 (46).jpg: 384x640 (no detections), 9.5ms\n",
      "image 125/363 C:\\Users\\gleb2\\Downloads\\test_dataset\\2 (47).jpg: 384x640 (no detections), 9.9ms\n",
      "image 126/363 C:\\Users\\gleb2\\Downloads\\test_dataset\\2 (48).jpg: 384x640 (no detections), 9.4ms\n",
      "image 127/363 C:\\Users\\gleb2\\Downloads\\test_dataset\\2 (49).jpg: 384x640 (no detections), 10.4ms\n",
      "image 128/363 C:\\Users\\gleb2\\Downloads\\test_dataset\\2 (5).jpg: 384x640 (no detections), 12.5ms\n",
      "image 129/363 C:\\Users\\gleb2\\Downloads\\test_dataset\\2 (50).jpg: 384x640 (no detections), 13.1ms\n",
      "image 130/363 C:\\Users\\gleb2\\Downloads\\test_dataset\\2 (51).jpg: 384x640 (no detections), 9.9ms\n",
      "image 131/363 C:\\Users\\gleb2\\Downloads\\test_dataset\\2 (52).jpg: 384x640 (no detections), 9.5ms\n",
      "image 132/363 C:\\Users\\gleb2\\Downloads\\test_dataset\\2 (53).jpg: 384x640 (no detections), 8.5ms\n",
      "image 133/363 C:\\Users\\gleb2\\Downloads\\test_dataset\\2 (54).jpg: 384x640 (no detections), 8.9ms\n",
      "image 134/363 C:\\Users\\gleb2\\Downloads\\test_dataset\\2 (55).jpg: 384x640 (no detections), 9.4ms\n",
      "image 135/363 C:\\Users\\gleb2\\Downloads\\test_dataset\\2 (56).jpg: 384x640 (no detections), 8.5ms\n",
      "image 136/363 C:\\Users\\gleb2\\Downloads\\test_dataset\\2 (57).jpg: 384x640 (no detections), 9.4ms\n",
      "image 137/363 C:\\Users\\gleb2\\Downloads\\test_dataset\\2 (58).jpg: 384x640 (no detections), 8.8ms\n",
      "image 138/363 C:\\Users\\gleb2\\Downloads\\test_dataset\\2 (59).jpg: 384x640 (no detections), 9.5ms\n",
      "image 139/363 C:\\Users\\gleb2\\Downloads\\test_dataset\\2 (6).jpg: 384x640 (no detections), 8.9ms\n",
      "image 140/363 C:\\Users\\gleb2\\Downloads\\test_dataset\\2 (60).jpg: 384x640 (no detections), 9.4ms\n",
      "image 141/363 C:\\Users\\gleb2\\Downloads\\test_dataset\\2 (61).jpg: 384x640 1 adj, 9.3ms\n",
      "image 142/363 C:\\Users\\gleb2\\Downloads\\test_dataset\\2 (62).jpg: 384x640 (no detections), 9.6ms\n",
      "image 143/363 C:\\Users\\gleb2\\Downloads\\test_dataset\\2 (63).jpg: 384x640 (no detections), 9.5ms\n",
      "image 144/363 C:\\Users\\gleb2\\Downloads\\test_dataset\\2 (64).jpg: 384x640 (no detections), 9.4ms\n",
      "image 145/363 C:\\Users\\gleb2\\Downloads\\test_dataset\\2 (65).jpg: 384x640 (no detections), 9.0ms\n",
      "image 146/363 C:\\Users\\gleb2\\Downloads\\test_dataset\\2 (7).jpg: 384x640 (no detections), 8.4ms\n",
      "image 147/363 C:\\Users\\gleb2\\Downloads\\test_dataset\\2 (8).jpg: 384x640 (no detections), 9.5ms\n",
      "image 148/363 C:\\Users\\gleb2\\Downloads\\test_dataset\\2 (9).jpg: 384x640 (no detections), 9.6ms\n",
      "image 149/363 C:\\Users\\gleb2\\Downloads\\test_dataset\\20.jpg: 384x640 3 adjs, 1 pro, 9.3ms\n",
      "image 150/363 C:\\Users\\gleb2\\Downloads\\test_dataset\\21.jpg: 384x640 4 adjs, 9.5ms\n",
      "image 151/363 C:\\Users\\gleb2\\Downloads\\test_dataset\\22.jpg: 384x640 2 adjs, 8.8ms\n",
      "image 152/363 C:\\Users\\gleb2\\Downloads\\test_dataset\\23.jpg: 384x640 4 adjs, 1 pro, 8.8ms\n",
      "image 153/363 C:\\Users\\gleb2\\Downloads\\test_dataset\\24.jpg: 384x640 2 adjs, 8.9ms\n",
      "image 154/363 C:\\Users\\gleb2\\Downloads\\test_dataset\\25.jpg: 384x640 3 adjs, 12.2ms\n",
      "image 155/363 C:\\Users\\gleb2\\Downloads\\test_dataset\\26.jpg: 384x640 1 adj, 10.5ms\n",
      "image 156/363 C:\\Users\\gleb2\\Downloads\\test_dataset\\27.jpg: 384x640 1 adj, 8.9ms\n",
      "image 157/363 C:\\Users\\gleb2\\Downloads\\test_dataset\\28.jpg: 384x640 1 adj, 8.4ms\n",
      "image 158/363 C:\\Users\\gleb2\\Downloads\\test_dataset\\29.jpg: 384x640 1 adj, 8.4ms\n",
      "image 159/363 C:\\Users\\gleb2\\Downloads\\test_dataset\\3 (1).jpg: 384x640 1 adj, 8.4ms\n",
      "image 160/363 C:\\Users\\gleb2\\Downloads\\test_dataset\\3 (10).jpg: 384x640 (no detections), 9.4ms\n",
      "image 161/363 C:\\Users\\gleb2\\Downloads\\test_dataset\\3 (100).jpg: 384x640 (no detections), 8.9ms\n",
      "image 162/363 C:\\Users\\gleb2\\Downloads\\test_dataset\\3 (101).jpg: 384x640 (no detections), 8.9ms\n",
      "image 163/363 C:\\Users\\gleb2\\Downloads\\test_dataset\\3 (104).jpg: 384x640 (no detections), 8.4ms\n",
      "image 164/363 C:\\Users\\gleb2\\Downloads\\test_dataset\\3 (105).jpg: 384x640 (no detections), 7.8ms\n",
      "image 165/363 C:\\Users\\gleb2\\Downloads\\test_dataset\\3 (106).jpg: 384x640 (no detections), 10.5ms\n",
      "image 166/363 C:\\Users\\gleb2\\Downloads\\test_dataset\\3 (107).jpg: 384x640 (no detections), 9.5ms\n",
      "image 167/363 C:\\Users\\gleb2\\Downloads\\test_dataset\\3 (108).jpg: 384x640 (no detections), 9.9ms\n",
      "image 168/363 C:\\Users\\gleb2\\Downloads\\test_dataset\\3 (109).jpg: 384x640 (no detections), 9.9ms\n",
      "image 169/363 C:\\Users\\gleb2\\Downloads\\test_dataset\\3 (11).jpg: 384x640 (no detections), 9.4ms\n",
      "image 170/363 C:\\Users\\gleb2\\Downloads\\test_dataset\\3 (111).jpg: 384x640 (no detections), 9.4ms\n",
      "image 171/363 C:\\Users\\gleb2\\Downloads\\test_dataset\\3 (112).jpg: 384x640 (no detections), 11.0ms\n",
      "image 172/363 C:\\Users\\gleb2\\Downloads\\test_dataset\\3 (113).jpg: 384x640 (no detections), 9.5ms\n",
      "image 173/363 C:\\Users\\gleb2\\Downloads\\test_dataset\\3 (114).jpg: 384x640 (no detections), 8.9ms\n",
      "image 174/363 C:\\Users\\gleb2\\Downloads\\test_dataset\\3 (115).jpg: 384x640 (no detections), 8.9ms\n",
      "image 175/363 C:\\Users\\gleb2\\Downloads\\test_dataset\\3 (118).jpg: 384x640 (no detections), 9.4ms\n",
      "image 176/363 C:\\Users\\gleb2\\Downloads\\test_dataset\\3 (119).jpg: 384x640 (no detections), 9.0ms\n",
      "image 177/363 C:\\Users\\gleb2\\Downloads\\test_dataset\\3 (120).jpg: 384x640 (no detections), 9.4ms\n",
      "image 178/363 C:\\Users\\gleb2\\Downloads\\test_dataset\\3 (121).jpg: 384x640 (no detections), 8.8ms\n",
      "image 179/363 C:\\Users\\gleb2\\Downloads\\test_dataset\\3 (124).jpg: 384x640 (no detections), 9.4ms\n",
      "image 180/363 C:\\Users\\gleb2\\Downloads\\test_dataset\\3 (125).jpg: 384x640 (no detections), 8.4ms\n",
      "image 181/363 C:\\Users\\gleb2\\Downloads\\test_dataset\\3 (126).jpg: 384x640 (no detections), 8.9ms\n",
      "image 182/363 C:\\Users\\gleb2\\Downloads\\test_dataset\\3 (127).jpg: 384x640 (no detections), 9.2ms\n",
      "image 183/363 C:\\Users\\gleb2\\Downloads\\test_dataset\\3 (128).jpg: 384x640 (no detections), 9.9ms\n",
      "image 184/363 C:\\Users\\gleb2\\Downloads\\test_dataset\\3 (129).jpg: 384x640 (no detections), 10.9ms\n",
      "image 185/363 C:\\Users\\gleb2\\Downloads\\test_dataset\\3 (130).jpg: 384x640 (no detections), 9.3ms\n",
      "image 186/363 C:\\Users\\gleb2\\Downloads\\test_dataset\\3 (131).jpg: 384x640 (no detections), 9.8ms\n",
      "image 187/363 C:\\Users\\gleb2\\Downloads\\test_dataset\\3 (134).jpg: 384x640 1 adj, 10.0ms\n",
      "image 188/363 C:\\Users\\gleb2\\Downloads\\test_dataset\\3 (135).jpg: 384x640 1 adj, 9.9ms\n",
      "image 189/363 C:\\Users\\gleb2\\Downloads\\test_dataset\\3 (136).jpg: 384x640 1 adj, 9.4ms\n",
      "image 190/363 C:\\Users\\gleb2\\Downloads\\test_dataset\\3 (137).jpg: 384x640 1 adj, 9.4ms\n",
      "image 191/363 C:\\Users\\gleb2\\Downloads\\test_dataset\\3 (138).jpg: 384x640 1 adj, 9.5ms\n",
      "image 192/363 C:\\Users\\gleb2\\Downloads\\test_dataset\\3 (139).jpg: 384x640 1 adj, 9.4ms\n",
      "image 193/363 C:\\Users\\gleb2\\Downloads\\test_dataset\\3 (14).jpg: 384x640 (no detections), 10.7ms\n",
      "image 194/363 C:\\Users\\gleb2\\Downloads\\test_dataset\\3 (140).jpg: 384x640 1 adj, 9.9ms\n",
      "image 195/363 C:\\Users\\gleb2\\Downloads\\test_dataset\\3 (141).jpg: 384x640 (no detections), 9.9ms\n",
      "image 196/363 C:\\Users\\gleb2\\Downloads\\test_dataset\\3 (144).jpg: 384x640 (no detections), 9.6ms\n",
      "image 197/363 C:\\Users\\gleb2\\Downloads\\test_dataset\\3 (145).jpg: 384x640 (no detections), 10.6ms\n",
      "image 198/363 C:\\Users\\gleb2\\Downloads\\test_dataset\\3 (146).jpg: 384x640 (no detections), 9.8ms\n",
      "image 199/363 C:\\Users\\gleb2\\Downloads\\test_dataset\\3 (147).jpg: 384x640 (no detections), 9.9ms\n",
      "image 200/363 C:\\Users\\gleb2\\Downloads\\test_dataset\\3 (148).jpg: 384x640 (no detections), 9.9ms\n",
      "image 201/363 C:\\Users\\gleb2\\Downloads\\test_dataset\\3 (149).jpg: 384x640 (no detections), 9.9ms\n",
      "image 202/363 C:\\Users\\gleb2\\Downloads\\test_dataset\\3 (15).jpg: 384x640 1 pro, 9.4ms\n",
      "image 203/363 C:\\Users\\gleb2\\Downloads\\test_dataset\\3 (151).jpg: 384x640 (no detections), 9.4ms\n",
      "image 204/363 C:\\Users\\gleb2\\Downloads\\test_dataset\\3 (152).jpg: 384x640 (no detections), 9.4ms\n",
      "image 205/363 C:\\Users\\gleb2\\Downloads\\test_dataset\\3 (153).jpg: 384x640 (no detections), 8.9ms\n",
      "image 206/363 C:\\Users\\gleb2\\Downloads\\test_dataset\\3 (154).jpg: 384x640 (no detections), 9.5ms\n",
      "image 207/363 C:\\Users\\gleb2\\Downloads\\test_dataset\\3 (156).jpg: 384x640 (no detections), 10.4ms\n",
      "image 208/363 C:\\Users\\gleb2\\Downloads\\test_dataset\\3 (157).jpg: 384x640 (no detections), 9.7ms\n",
      "image 209/363 C:\\Users\\gleb2\\Downloads\\test_dataset\\3 (158).jpg: 384x640 1 adj, 10.5ms\n",
      "image 210/363 C:\\Users\\gleb2\\Downloads\\test_dataset\\3 (159).jpg: 384x640 1 adj, 9.9ms\n",
      "image 211/363 C:\\Users\\gleb2\\Downloads\\test_dataset\\3 (16).jpg: 384x640 (no detections), 11.1ms\n",
      "image 212/363 C:\\Users\\gleb2\\Downloads\\test_dataset\\3 (162).jpg: 384x640 (no detections), 9.3ms\n",
      "image 213/363 C:\\Users\\gleb2\\Downloads\\test_dataset\\3 (163).jpg: 384x640 (no detections), 9.4ms\n",
      "image 214/363 C:\\Users\\gleb2\\Downloads\\test_dataset\\3 (17).jpg: 384x640 (no detections), 9.3ms\n",
      "image 215/363 C:\\Users\\gleb2\\Downloads\\test_dataset\\3 (18).jpg: 384x640 (no detections), 10.3ms\n",
      "image 216/363 C:\\Users\\gleb2\\Downloads\\test_dataset\\3 (19).jpg: 384x640 (no detections), 11.0ms\n",
      "image 217/363 C:\\Users\\gleb2\\Downloads\\test_dataset\\3 (2).jpg: 384x640 (no detections), 9.5ms\n",
      "image 218/363 C:\\Users\\gleb2\\Downloads\\test_dataset\\3 (22).jpg: 384x640 (no detections), 9.4ms\n",
      "image 219/363 C:\\Users\\gleb2\\Downloads\\test_dataset\\3 (23).jpg: 384x640 (no detections), 9.9ms\n",
      "image 220/363 C:\\Users\\gleb2\\Downloads\\test_dataset\\3 (24).jpg: 384x640 (no detections), 10.5ms\n",
      "image 221/363 C:\\Users\\gleb2\\Downloads\\test_dataset\\3 (25).jpg: 384x640 (no detections), 9.4ms\n",
      "image 222/363 C:\\Users\\gleb2\\Downloads\\test_dataset\\3 (26).jpg: 384x640 (no detections), 9.9ms\n",
      "image 223/363 C:\\Users\\gleb2\\Downloads\\test_dataset\\3 (27).jpg: 384x640 (no detections), 10.5ms\n",
      "image 224/363 C:\\Users\\gleb2\\Downloads\\test_dataset\\3 (28).jpg: 384x640 (no detections), 9.3ms\n",
      "image 225/363 C:\\Users\\gleb2\\Downloads\\test_dataset\\3 (29).jpg: 384x640 (no detections), 11.4ms\n",
      "image 226/363 C:\\Users\\gleb2\\Downloads\\test_dataset\\3 (3).jpg: 384x640 (no detections), 9.4ms\n",
      "image 227/363 C:\\Users\\gleb2\\Downloads\\test_dataset\\3 (30).jpg: 384x640 (no detections), 10.9ms\n",
      "image 228/363 C:\\Users\\gleb2\\Downloads\\test_dataset\\3 (31).jpg: 384x640 (no detections), 9.9ms\n",
      "image 229/363 C:\\Users\\gleb2\\Downloads\\test_dataset\\3 (32).jpg: 384x640 (no detections), 9.3ms\n",
      "image 230/363 C:\\Users\\gleb2\\Downloads\\test_dataset\\3 (33).jpg: 384x640 (no detections), 10.5ms\n",
      "image 231/363 C:\\Users\\gleb2\\Downloads\\test_dataset\\3 (34).jpg: 384x640 (no detections), 9.4ms\n",
      "image 232/363 C:\\Users\\gleb2\\Downloads\\test_dataset\\3 (35).jpg: 384x640 (no detections), 9.0ms\n",
      "image 233/363 C:\\Users\\gleb2\\Downloads\\test_dataset\\3 (36).jpg: 384x640 (no detections), 9.6ms\n",
      "image 234/363 C:\\Users\\gleb2\\Downloads\\test_dataset\\3 (37).jpg: 384x640 (no detections), 10.0ms\n",
      "image 235/363 C:\\Users\\gleb2\\Downloads\\test_dataset\\3 (39).jpg: 384x640 (no detections), 9.9ms\n",
      "image 236/363 C:\\Users\\gleb2\\Downloads\\test_dataset\\3 (4).jpg: 384x640 (no detections), 10.7ms\n",
      "image 237/363 C:\\Users\\gleb2\\Downloads\\test_dataset\\3 (42).jpg: 384x640 (no detections), 8.9ms\n",
      "image 238/363 C:\\Users\\gleb2\\Downloads\\test_dataset\\3 (43).jpg: 384x640 (no detections), 8.8ms\n",
      "image 239/363 C:\\Users\\gleb2\\Downloads\\test_dataset\\3 (44).jpg: 384x640 (no detections), 10.2ms\n",
      "image 240/363 C:\\Users\\gleb2\\Downloads\\test_dataset\\3 (45).jpg: 384x640 (no detections), 9.4ms\n",
      "image 241/363 C:\\Users\\gleb2\\Downloads\\test_dataset\\3 (48).jpg: 384x640 (no detections), 9.4ms\n",
      "image 242/363 C:\\Users\\gleb2\\Downloads\\test_dataset\\3 (49).jpg: 384x640 (no detections), 8.9ms\n",
      "image 243/363 C:\\Users\\gleb2\\Downloads\\test_dataset\\3 (5).jpg: 384x640 (no detections), 10.5ms\n",
      "image 244/363 C:\\Users\\gleb2\\Downloads\\test_dataset\\3 (50).jpg: 384x640 (no detections), 10.6ms\n",
      "image 245/363 C:\\Users\\gleb2\\Downloads\\test_dataset\\3 (51).jpg: 384x640 (no detections), 9.9ms\n",
      "image 246/363 C:\\Users\\gleb2\\Downloads\\test_dataset\\3 (52).jpg: 384x640 (no detections), 8.9ms\n",
      "image 247/363 C:\\Users\\gleb2\\Downloads\\test_dataset\\3 (53).jpg: 384x640 (no detections), 10.8ms\n",
      "image 248/363 C:\\Users\\gleb2\\Downloads\\test_dataset\\3 (55).jpg: 384x640 (no detections), 9.3ms\n",
      "image 249/363 C:\\Users\\gleb2\\Downloads\\test_dataset\\3 (56).jpg: 384x640 (no detections), 13.0ms\n",
      "image 250/363 C:\\Users\\gleb2\\Downloads\\test_dataset\\3 (57).jpg: 384x640 (no detections), 19.4ms\n",
      "image 251/363 C:\\Users\\gleb2\\Downloads\\test_dataset\\3 (58).jpg: 384x640 1 adj, 14.8ms\n",
      "image 252/363 C:\\Users\\gleb2\\Downloads\\test_dataset\\3 (59).jpg: 384x640 1 adj, 10.4ms\n",
      "image 253/363 C:\\Users\\gleb2\\Downloads\\test_dataset\\3 (6).jpg: 384x640 (no detections), 8.9ms\n",
      "image 254/363 C:\\Users\\gleb2\\Downloads\\test_dataset\\3 (60).jpg: 384x640 (no detections), 9.5ms\n",
      "image 255/363 C:\\Users\\gleb2\\Downloads\\test_dataset\\3 (61).jpg: 384x640 (no detections), 10.4ms\n",
      "image 256/363 C:\\Users\\gleb2\\Downloads\\test_dataset\\3 (64).jpg: 384x640 1 adj, 8.8ms\n",
      "image 257/363 C:\\Users\\gleb2\\Downloads\\test_dataset\\3 (65).jpg: 384x640 (no detections), 8.9ms\n",
      "image 258/363 C:\\Users\\gleb2\\Downloads\\test_dataset\\3 (66).jpg: 384x640 (no detections), 9.9ms\n",
      "image 259/363 C:\\Users\\gleb2\\Downloads\\test_dataset\\3 (67).jpg: 384x640 (no detections), 10.5ms\n",
      "image 260/363 C:\\Users\\gleb2\\Downloads\\test_dataset\\3 (68).jpg: 384x640 (no detections), 8.9ms\n",
      "image 261/363 C:\\Users\\gleb2\\Downloads\\test_dataset\\3 (69).jpg: 384x640 (no detections), 9.4ms\n",
      "image 262/363 C:\\Users\\gleb2\\Downloads\\test_dataset\\3 (72).jpg: 384x640 (no detections), 8.8ms\n",
      "image 263/363 C:\\Users\\gleb2\\Downloads\\test_dataset\\3 (73).jpg: 384x640 (no detections), 9.5ms\n",
      "image 264/363 C:\\Users\\gleb2\\Downloads\\test_dataset\\3 (74).jpg: 384x640 (no detections), 9.4ms\n",
      "image 265/363 C:\\Users\\gleb2\\Downloads\\test_dataset\\3 (75).jpg: 384x640 (no detections), 9.9ms\n",
      "image 266/363 C:\\Users\\gleb2\\Downloads\\test_dataset\\3 (76).jpg: 384x640 1 adj, 8.4ms\n",
      "image 267/363 C:\\Users\\gleb2\\Downloads\\test_dataset\\3 (77).jpg: 384x640 1 adj, 9.3ms\n",
      "image 268/363 C:\\Users\\gleb2\\Downloads\\test_dataset\\3 (78).jpg: 384x640 (no detections), 8.9ms\n",
      "image 269/363 C:\\Users\\gleb2\\Downloads\\test_dataset\\3 (79).jpg: 384x640 1 adj, 8.9ms\n",
      "image 270/363 C:\\Users\\gleb2\\Downloads\\test_dataset\\3 (8).jpg: 384x640 (no detections), 9.5ms\n",
      "image 271/363 C:\\Users\\gleb2\\Downloads\\test_dataset\\3 (81).jpg: 384x640 2 adjs, 9.9ms\n",
      "image 272/363 C:\\Users\\gleb2\\Downloads\\test_dataset\\3 (82).jpg: 384x640 1 adj, 9.4ms\n",
      "image 273/363 C:\\Users\\gleb2\\Downloads\\test_dataset\\3 (83).jpg: 384x640 (no detections), 9.4ms\n",
      "image 274/363 C:\\Users\\gleb2\\Downloads\\test_dataset\\3 (84).jpg: 384x640 (no detections), 8.3ms\n",
      "image 275/363 C:\\Users\\gleb2\\Downloads\\test_dataset\\3 (85).jpg: 384x640 (no detections), 9.5ms\n",
      "image 276/363 C:\\Users\\gleb2\\Downloads\\test_dataset\\3 (88).jpg: 384x640 (no detections), 10.8ms\n",
      "image 277/363 C:\\Users\\gleb2\\Downloads\\test_dataset\\3 (89).jpg: 384x640 (no detections), 9.9ms\n",
      "image 278/363 C:\\Users\\gleb2\\Downloads\\test_dataset\\3 (9).jpg: 384x640 (no detections), 8.9ms\n",
      "image 279/363 C:\\Users\\gleb2\\Downloads\\test_dataset\\3 (90).jpg: 384x640 (no detections), 9.9ms\n",
      "image 280/363 C:\\Users\\gleb2\\Downloads\\test_dataset\\3 (91).jpg: 384x640 (no detections), 10.5ms\n",
      "image 281/363 C:\\Users\\gleb2\\Downloads\\test_dataset\\3 (92).jpg: 384x640 (no detections), 11.5ms\n",
      "image 282/363 C:\\Users\\gleb2\\Downloads\\test_dataset\\3 (93).jpg: 384x640 (no detections), 9.4ms\n",
      "image 283/363 C:\\Users\\gleb2\\Downloads\\test_dataset\\3 (96).jpg: 384x640 (no detections), 9.0ms\n",
      "image 284/363 C:\\Users\\gleb2\\Downloads\\test_dataset\\3 (97).jpg: 384x640 (no detections), 9.4ms\n",
      "image 285/363 C:\\Users\\gleb2\\Downloads\\test_dataset\\3 (98).jpg: 384x640 (no detections), 9.3ms\n",
      "image 286/363 C:\\Users\\gleb2\\Downloads\\test_dataset\\3 (99).jpg: 384x640 (no detections), 10.0ms\n",
      "image 287/363 C:\\Users\\gleb2\\Downloads\\test_dataset\\3.jpg: 384x640 1 adj, 9.0ms\n",
      "image 288/363 C:\\Users\\gleb2\\Downloads\\test_dataset\\30.jpg: 384x640 1 adj, 8.4ms\n",
      "image 289/363 C:\\Users\\gleb2\\Downloads\\test_dataset\\31.jpg: 384x640 1 adj, 8.9ms\n",
      "image 290/363 C:\\Users\\gleb2\\Downloads\\test_dataset\\32.jpg: 384x640 (no detections), 9.5ms\n",
      "image 291/363 C:\\Users\\gleb2\\Downloads\\test_dataset\\33.jpg: 384x640 1 adj, 8.4ms\n",
      "image 292/363 C:\\Users\\gleb2\\Downloads\\test_dataset\\34.jpg: 384x640 1 adj, 9.3ms\n",
      "image 293/363 C:\\Users\\gleb2\\Downloads\\test_dataset\\35.jpg: 384x640 1 adj, 9.9ms\n",
      "image 294/363 C:\\Users\\gleb2\\Downloads\\test_dataset\\36.jpg: 384x640 1 adj, 8.9ms\n",
      "image 295/363 C:\\Users\\gleb2\\Downloads\\test_dataset\\37.jpg: 384x640 1 adj, 8.4ms\n",
      "image 296/363 C:\\Users\\gleb2\\Downloads\\test_dataset\\38.jpg: 384x640 (no detections), 9.1ms\n",
      "image 297/363 C:\\Users\\gleb2\\Downloads\\test_dataset\\39.jpg: 384x640 (no detections), 8.9ms\n",
      "image 298/363 C:\\Users\\gleb2\\Downloads\\test_dataset\\4.jpg: 384x640 (no detections), 8.5ms\n",
      "image 299/363 C:\\Users\\gleb2\\Downloads\\test_dataset\\40.jpg: 384x640 (no detections), 8.9ms\n",
      "image 300/363 C:\\Users\\gleb2\\Downloads\\test_dataset\\41.jpg: 384x640 (no detections), 9.0ms\n",
      "image 301/363 C:\\Users\\gleb2\\Downloads\\test_dataset\\42.jpg: 384x640 2 adjs, 9.0ms\n",
      "image 302/363 C:\\Users\\gleb2\\Downloads\\test_dataset\\43.jpg: 384x640 2 adjs, 8.8ms\n",
      "image 303/363 C:\\Users\\gleb2\\Downloads\\test_dataset\\44.jpg: 384x640 1 adj, 8.8ms\n",
      "image 304/363 C:\\Users\\gleb2\\Downloads\\test_dataset\\45.jpg: 384x640 2 adjs, 9.4ms\n",
      "image 305/363 C:\\Users\\gleb2\\Downloads\\test_dataset\\46.jpg: 384x640 2 adjs, 8.5ms\n",
      "image 306/363 C:\\Users\\gleb2\\Downloads\\test_dataset\\47.jpg: 384x640 1 adj, 8.4ms\n",
      "image 307/363 C:\\Users\\gleb2\\Downloads\\test_dataset\\48.jpg: 384x640 3 adjs, 8.5ms\n",
      "image 308/363 C:\\Users\\gleb2\\Downloads\\test_dataset\\49.jpg: 384x640 3 adjs, 8.9ms\n",
      "image 309/363 C:\\Users\\gleb2\\Downloads\\test_dataset\\5.jpg: 384x640 2 adjs, 8.9ms\n",
      "image 310/363 C:\\Users\\gleb2\\Downloads\\test_dataset\\50.jpg: 384x640 2 adjs, 1 pro, 9.0ms\n",
      "image 311/363 C:\\Users\\gleb2\\Downloads\\test_dataset\\51.jpg: 384x640 1 adj, 8.5ms\n",
      "image 312/363 C:\\Users\\gleb2\\Downloads\\test_dataset\\52.jpg: 384x640 2 adjs, 9.5ms\n",
      "image 313/363 C:\\Users\\gleb2\\Downloads\\test_dataset\\53.jpg: 384x640 (no detections), 8.4ms\n",
      "image 314/363 C:\\Users\\gleb2\\Downloads\\test_dataset\\54.jpg: 384x640 (no detections), 9.5ms\n",
      "image 315/363 C:\\Users\\gleb2\\Downloads\\test_dataset\\55.jpg: 384x640 (no detections), 9.4ms\n",
      "image 316/363 C:\\Users\\gleb2\\Downloads\\test_dataset\\56.jpg: 384x640 (no detections), 8.3ms\n",
      "image 317/363 C:\\Users\\gleb2\\Downloads\\test_dataset\\57.jpg: 384x640 (no detections), 8.0ms\n",
      "image 318/363 C:\\Users\\gleb2\\Downloads\\test_dataset\\58.jpg: 384x640 2 adjs, 9.0ms\n",
      "image 319/363 C:\\Users\\gleb2\\Downloads\\test_dataset\\59.jpg: 384x640 1 adj, 9.0ms\n",
      "image 320/363 C:\\Users\\gleb2\\Downloads\\test_dataset\\6.jpg: 384x640 2 adjs, 8.3ms\n",
      "image 321/363 C:\\Users\\gleb2\\Downloads\\test_dataset\\60.jpg: 384x640 1 adj, 8.8ms\n",
      "image 322/363 C:\\Users\\gleb2\\Downloads\\test_dataset\\61.jpg: 384x640 1 adj, 9.0ms\n",
      "image 323/363 C:\\Users\\gleb2\\Downloads\\test_dataset\\62.jpg: 384x640 1 adj, 8.4ms\n",
      "image 324/363 C:\\Users\\gleb2\\Downloads\\test_dataset\\63.jpg: 384x640 1 adj, 8.4ms\n",
      "image 325/363 C:\\Users\\gleb2\\Downloads\\test_dataset\\64.jpg: 384x640 2 adjs, 9.5ms\n",
      "image 326/363 C:\\Users\\gleb2\\Downloads\\test_dataset\\65.jpg: 384x640 1 adj, 8.9ms\n",
      "image 327/363 C:\\Users\\gleb2\\Downloads\\test_dataset\\66.jpg: 384x640 1 adj, 9.4ms\n",
      "image 328/363 C:\\Users\\gleb2\\Downloads\\test_dataset\\67.jpg: 384x640 2 adjs, 9.5ms\n",
      "image 329/363 C:\\Users\\gleb2\\Downloads\\test_dataset\\68.jpg: 384x640 2 adjs, 9.4ms\n",
      "image 330/363 C:\\Users\\gleb2\\Downloads\\test_dataset\\69.jpg: 384x640 1 adj, 9.5ms\n",
      "image 331/363 C:\\Users\\gleb2\\Downloads\\test_dataset\\7.jpg: 384x640 (no detections), 9.0ms\n",
      "image 332/363 C:\\Users\\gleb2\\Downloads\\test_dataset\\70.jpg: 384x640 1 adj, 9.0ms\n",
      "image 333/363 C:\\Users\\gleb2\\Downloads\\test_dataset\\71.jpg: 384x640 (no detections), 8.9ms\n",
      "image 334/363 C:\\Users\\gleb2\\Downloads\\test_dataset\\72.jpg: 384x640 (no detections), 8.5ms\n",
      "image 335/363 C:\\Users\\gleb2\\Downloads\\test_dataset\\73.jpg: 384x640 1 adj, 16.5ms\n",
      "image 336/363 C:\\Users\\gleb2\\Downloads\\test_dataset\\74.jpg: 384x640 (no detections), 9.7ms\n",
      "image 337/363 C:\\Users\\gleb2\\Downloads\\test_dataset\\75.jpg: 384x640 (no detections), 8.9ms\n",
      "image 338/363 C:\\Users\\gleb2\\Downloads\\test_dataset\\76.jpg: 384x640 1 adj, 8.5ms\n",
      "image 339/363 C:\\Users\\gleb2\\Downloads\\test_dataset\\77.jpg: 384x640 1 adj, 9.0ms\n",
      "image 340/363 C:\\Users\\gleb2\\Downloads\\test_dataset\\78.jpg: 384x640 1 adj, 9.0ms\n",
      "image 341/363 C:\\Users\\gleb2\\Downloads\\test_dataset\\79.jpg: 384x640 2 adjs, 9.4ms\n",
      "image 342/363 C:\\Users\\gleb2\\Downloads\\test_dataset\\8.jpg: 384x640 3 adjs, 10.3ms\n",
      "image 343/363 C:\\Users\\gleb2\\Downloads\\test_dataset\\80.jpg: 384x640 2 adjs, 10.5ms\n",
      "image 344/363 C:\\Users\\gleb2\\Downloads\\test_dataset\\81.jpg: 384x640 2 adjs, 1 int, 9.5ms\n",
      "image 345/363 C:\\Users\\gleb2\\Downloads\\test_dataset\\82.jpg: 384x640 3 adjs, 9.6ms\n",
      "image 346/363 C:\\Users\\gleb2\\Downloads\\test_dataset\\83.jpg: 384x640 2 adjs, 8.4ms\n",
      "image 347/363 C:\\Users\\gleb2\\Downloads\\test_dataset\\84.jpg: 384x640 2 adjs, 8.5ms\n",
      "image 348/363 C:\\Users\\gleb2\\Downloads\\test_dataset\\85.jpg: 384x640 3 adjs, 8.9ms\n",
      "image 349/363 C:\\Users\\gleb2\\Downloads\\test_dataset\\86.jpg: 384x640 2 adjs, 9.4ms\n",
      "image 350/363 C:\\Users\\gleb2\\Downloads\\test_dataset\\87.jpg: 384x640 1 adj, 8.4ms\n",
      "image 351/363 C:\\Users\\gleb2\\Downloads\\test_dataset\\88.jpg: 384x640 4 adjs, 8.6ms\n",
      "image 352/363 C:\\Users\\gleb2\\Downloads\\test_dataset\\89.jpg: 384x640 3 adjs, 8.9ms\n",
      "image 353/363 C:\\Users\\gleb2\\Downloads\\test_dataset\\9.jpg: 384x640 3 adjs, 9.4ms\n",
      "image 354/363 C:\\Users\\gleb2\\Downloads\\test_dataset\\90.jpg: 384x640 1 adj, 8.9ms\n",
      "image 355/363 C:\\Users\\gleb2\\Downloads\\test_dataset\\91.jpg: 384x640 1 adj, 9.5ms\n",
      "image 356/363 C:\\Users\\gleb2\\Downloads\\test_dataset\\92.jpg: 384x640 1 adj, 8.5ms\n",
      "image 357/363 C:\\Users\\gleb2\\Downloads\\test_dataset\\93.jpg: 384x640 (no detections), 8.5ms\n",
      "image 358/363 C:\\Users\\gleb2\\Downloads\\test_dataset\\94.jpg: 384x640 3 adjs, 9.0ms\n",
      "image 359/363 C:\\Users\\gleb2\\Downloads\\test_dataset\\95.jpg: 384x640 (no detections), 8.9ms\n",
      "image 360/363 C:\\Users\\gleb2\\Downloads\\test_dataset\\96.jpg: 384x640 3 adjs, 8.9ms\n",
      "image 361/363 C:\\Users\\gleb2\\Downloads\\test_dataset\\97.jpg: 384x640 3 adjs, 9.4ms\n",
      "image 362/363 C:\\Users\\gleb2\\Downloads\\test_dataset\\98.jpg: 384x640 3 adjs, 9.5ms\n",
      "image 363/363 C:\\Users\\gleb2\\Downloads\\test_dataset\\99.jpg: 384x640 2 adjs, 8.4ms\n",
      "Speed: 1.3ms preprocess, 9.5ms inference, 0.8ms postprocess per image at shape (1, 3, 384, 640)\n"
     ]
    },
    {
     "ename": "RuntimeError",
     "evalue": "a Tensor with 4 elements cannot be converted to Scalar",
     "output_type": "error",
     "traceback": [
      "\u001b[1;31m---------------------------------------------------------------------------\u001b[0m",
      "\u001b[1;31mRuntimeError\u001b[0m                              Traceback (most recent call last)",
      "Cell \u001b[1;32mIn[7], line 31\u001b[0m\n\u001b[0;32m     28\u001b[0m \u001b[38;5;66;03m# Iterate over each detected object's boxes\u001b[39;00m\n\u001b[0;32m     29\u001b[0m \u001b[38;5;28;01mfor\u001b[39;00m box \u001b[38;5;129;01min\u001b[39;00m boxes:\n\u001b[0;32m     30\u001b[0m     \u001b[38;5;66;03m# Access each element of the tensor individually and convert to Python scalar\u001b[39;00m\n\u001b[1;32m---> 31\u001b[0m     x_center \u001b[38;5;241m=\u001b[39m \u001b[38;5;28mround\u001b[39m(\u001b[43mbox\u001b[49m\u001b[38;5;241;43m.\u001b[39;49m\u001b[43mxywh\u001b[49m\u001b[43m[\u001b[49m\u001b[38;5;241;43m0\u001b[39;49m\u001b[43m]\u001b[49m\u001b[38;5;241;43m.\u001b[39;49m\u001b[43mitem\u001b[49m\u001b[43m(\u001b[49m\u001b[43m)\u001b[49m, \u001b[38;5;241m4\u001b[39m)\n\u001b[0;32m     32\u001b[0m     y_center \u001b[38;5;241m=\u001b[39m \u001b[38;5;28mround\u001b[39m(box\u001b[38;5;241m.\u001b[39mxywh[\u001b[38;5;241m1\u001b[39m]\u001b[38;5;241m.\u001b[39mitem(), \u001b[38;5;241m4\u001b[39m)\n\u001b[0;32m     33\u001b[0m     width \u001b[38;5;241m=\u001b[39m \u001b[38;5;28mround\u001b[39m(box\u001b[38;5;241m.\u001b[39mxywh[\u001b[38;5;241m2\u001b[39m]\u001b[38;5;241m.\u001b[39mitem(), \u001b[38;5;241m4\u001b[39m)\n",
      "\u001b[1;31mRuntimeError\u001b[0m: a Tensor with 4 elements cannot be converted to Scalar"
     ]
    }
   ],
   "source": [
    "from ultralytics import YOLO\n",
    "import os\n",
    "import csv\n",
    "\n",
    "# Load a model\n",
    "model = YOLO(\"C:/Users/gleb2/Downloads/some data/some data/runs/detect/41_40_0mosaic/weights/best.pt\")  # pretrained YOLOv8n model\n",
    "\n",
    "# Run batched inference on a list of images\n",
    "results = model(\"C:/Users/gleb2/Downloads/test_dataset\")  \n",
    "\n",
    "\n",
    "# Define the directory to save results\n",
    "save_dir = \"C:/Users/gleb2/Downloads/some data/\"\n",
    "csv_filename = \"predictions.csv\"\n",
    "with open(os.path.join(save_dir, csv_filename), \"w\", newline=\"\") as file:\n",
    "    writer = csv.writer(file)\n",
    "    # Write header row\n",
    "    writer.writerow([\"filename\", \"class_id\", \"x_center\", \"y_center\", \"width\", \"height\"])\n",
    "    \n",
    "    # Process results list\n",
    "    for result in results:\n",
    "        # Get filename without extension\n",
    "        filename = os.path.splitext(os.path.basename(result.path))[0]\n",
    "        \n",
    "        # Get bounding box coordinates (x_center, y_center, width, height format)\n",
    "        boxes = result.boxes\n",
    "        \n",
    "        # Iterate over each detected object's boxes\n",
    "        for box in boxes:\n",
    "            # Access each element of the tensor individually and convert to Python scalar\n",
    "            x_center = round(box.xywh[0].item(), 4)\n",
    "            y_center = round(box.xywh[1].item(), 4)\n",
    "            width = round(box.xywh[2].item(), 4)\n",
    "            height = round(box.xywh[3].item(), 4)\n",
    "            class_id = int(box.cls.item())\n",
    "            # Write to CSV in the specified format\n",
    "            writer.writerow([filename, class_id, x_center, y_center, width, height])\n",
    "\n",
    "print(f\"Results saved successfully in {csv_filename}.\")\n",
    "            \n",
    "    # result.save()  # display to screen\n",
    "    # result.save_txt(txt_file=\"C:/Users/gleb2/Downloads/some data/some data/res.txt\")  # save to disk"
   ]
  },
  {
   "cell_type": "code",
   "execution_count": null,
   "id": "54038174-3232-44dd-ada6-d48a33ca10fb",
   "metadata": {},
   "outputs": [],
   "source": []
  }
 ],
 "metadata": {
  "kernelspec": {
   "display_name": "Python 3.10 (py310)",
   "language": "python",
   "name": "py310"
  },
  "language_info": {
   "codemirror_mode": {
    "name": "ipython",
    "version": 3
   },
   "file_extension": ".py",
   "mimetype": "text/x-python",
   "name": "python",
   "nbconvert_exporter": "python",
   "pygments_lexer": "ipython3",
   "version": "3.9.19"
  }
 },
 "nbformat": 4,
 "nbformat_minor": 5
}
